{
 "cells": [
  {
   "cell_type": "markdown",
   "metadata": {},
   "source": [
    "# Neural Machine Translation\n",
    "\n",
    "Welcome to your first programming assignment for this week! \n",
    "\n",
    "You will build a Neural Machine Translation (NMT) model to translate human readable dates (\"25th of June, 2009\") into machine readable dates (\"2009-06-25\"). You will do this using an attention model, one of the most sophisticated sequence to sequence models. \n",
    "\n",
    "This notebook was produced together with NVIDIA's Deep Learning Institute. \n",
    "\n",
    "Let's load all the packages you will need for this assignment."
   ]
  },
  {
   "cell_type": "code",
   "execution_count": 1,
   "metadata": {},
   "outputs": [
    {
     "name": "stderr",
     "output_type": "stream",
     "text": [
      "C:\\Users\\hdeng8\\AppData\\Local\\Continuum\\anaconda3\\lib\\site-packages\\h5py\\__init__.py:72: UserWarning: h5py is running against HDF5 1.10.2 when it was built against 1.10.3, this may cause problems\n",
      "  '{0}.{1}.{2}'.format(*version.hdf5_built_version_tuple)\n",
      "Using TensorFlow backend.\n"
     ]
    }
   ],
   "source": [
    "from keras.layers import Bidirectional, Concatenate, Permute, Dot, Input, LSTM, Multiply, Flatten\n",
    "from keras.layers import RepeatVector, Dense, Activation, Lambda\n",
    "from keras.optimizers import Adam\n",
    "from keras.utils import to_categorical\n",
    "from keras.models import load_model, Model\n",
    "import keras.backend as K\n",
    "import numpy as np\n",
    "\n",
    "from faker import Faker\n",
    "import random\n",
    "from tqdm import tqdm\n",
    "from babel.dates import format_date\n",
    "from nmt_utils import *\n",
    "import matplotlib.pyplot as plt\n",
    "%matplotlib inline"
   ]
  },
  {
   "cell_type": "markdown",
   "metadata": {},
   "source": [
    "## 1 - Translating human readable dates into machine readable dates\n",
    "\n",
    "The model you will build here could be used to translate from one language to another, such as translating from English to Hindi. However, language translation requires massive datasets and usually takes days of training on GPUs. To give you a place to experiment with these models even without using massive datasets, we will instead use a simpler \"date translation\" task. \n",
    "\n",
    "The network will input a date written in a variety of possible formats (*e.g. \"the 29th of August 1958\", \"03/30/1968\", \"24 JUNE 1987\"*) and translate them into standardized, machine readable dates (*e.g. \"1958-08-29\", \"1968-03-30\", \"1987-06-24\"*). We will have the network learn to output dates in the common machine-readable format YYYY-MM-DD. \n",
    "\n",
    "\n",
    "\n",
    "<!-- \n",
    "Take a look at [nmt_utils.py](./nmt_utils.py) to see all the formatting. Count and figure out how the formats work, you will need this knowledge later. !--> "
   ]
  },
  {
   "cell_type": "markdown",
   "metadata": {},
   "source": [
    "### 1.1 - Dataset\n",
    "\n",
    "We will train the model on a dataset of 10000 human readable dates and their equivalent, standardized, machine readable dates. Let's run the following cells to load the dataset and print some examples. "
   ]
  },
  {
   "cell_type": "code",
   "execution_count": 2,
   "metadata": {},
   "outputs": [
    {
     "name": "stderr",
     "output_type": "stream",
     "text": [
      "100%|█████████████████████████████████████████████████████████████████████████| 10000/10000 [00:00<00:00, 11446.73it/s]\n"
     ]
    }
   ],
   "source": [
    "m = 10000\n",
    "dataset, human_vocab, machine_vocab, inv_machine_vocab = load_dataset(m)"
   ]
  },
  {
   "cell_type": "code",
   "execution_count": 3,
   "metadata": {},
   "outputs": [
    {
     "data": {
      "text/plain": [
       "[('9 may 1998', '1998-05-09'),\n",
       " ('10.09.70', '1970-09-10'),\n",
       " ('4/28/90', '1990-04-28'),\n",
       " ('thursday january 26 1995', '1995-01-26'),\n",
       " ('monday march 7 1983', '1983-03-07'),\n",
       " ('sunday may 22 1988', '1988-05-22'),\n",
       " ('tuesday july 8 2008', '2008-07-08'),\n",
       " ('08 sep 1999', '1999-09-08'),\n",
       " ('1 jan 1981', '1981-01-01'),\n",
       " ('monday may 22 1995', '1995-05-22')]"
      ]
     },
     "execution_count": 3,
     "metadata": {},
     "output_type": "execute_result"
    }
   ],
   "source": [
    "dataset[:10]"
   ]
  },
  {
   "cell_type": "markdown",
   "metadata": {},
   "source": [
    "You've loaded:\n",
    "- `dataset`: a list of tuples of (human readable date, machine readable date)\n",
    "- `human_vocab`: a python dictionary mapping all characters used in the human readable dates to an integer-valued index \n",
    "- `machine_vocab`: a python dictionary mapping all characters used in machine readable dates to an integer-valued index. These indices are not necessarily consistent with `human_vocab`. \n",
    "- `inv_machine_vocab`: the inverse dictionary of `machine_vocab`, mapping from indices back to characters. \n",
    "\n",
    "Let's preprocess the data and map the raw text data into the index values. We will also use Tx=30 (which we assume is the maximum length of the human readable date; if we get a longer input, we would have to truncate it) and Ty=10 (since \"YYYY-MM-DD\" is 10 characters long). "
   ]
  },
  {
   "cell_type": "code",
   "execution_count": 4,
   "metadata": {},
   "outputs": [
    {
     "name": "stdout",
     "output_type": "stream",
     "text": [
      "X.shape: (10000, 30)\n",
      "Y.shape: (10000, 10)\n",
      "Xoh.shape: (10000, 30, 37)\n",
      "Yoh.shape: (10000, 10, 11)\n"
     ]
    }
   ],
   "source": [
    "Tx = 30\n",
    "Ty = 10\n",
    "X, Y, Xoh, Yoh = preprocess_data(dataset, human_vocab, machine_vocab, Tx, Ty)\n",
    "\n",
    "print(\"X.shape:\", X.shape)\n",
    "print(\"Y.shape:\", Y.shape)\n",
    "print(\"Xoh.shape:\", Xoh.shape)\n",
    "print(\"Yoh.shape:\", Yoh.shape)"
   ]
  },
  {
   "cell_type": "markdown",
   "metadata": {},
   "source": [
    "You now have:\n",
    "- `X`: a processed version of the human readable dates in the training set, where each character is replaced by an index mapped to the character via `human_vocab`. Each date is further padded to $T_x$ values with a special character (< pad >). `X.shape = (m, Tx)`\n",
    "- `Y`: a processed version of the machine readable dates in the training set, where each character is replaced by the index it is mapped to in `machine_vocab`. You should have `Y.shape = (m, Ty)`. \n",
    "- `Xoh`: one-hot version of `X`, the \"1\" entry's index is mapped to the character thanks to `human_vocab`. `Xoh.shape = (m, Tx, len(human_vocab))`\n",
    "- `Yoh`: one-hot version of `Y`, the \"1\" entry's index is mapped to the character thanks to `machine_vocab`. `Yoh.shape = (m, Tx, len(machine_vocab))`. Here, `len(machine_vocab) = 11` since there are 11 characters ('-' as well as 0-9). \n"
   ]
  },
  {
   "cell_type": "markdown",
   "metadata": {},
   "source": [
    "Lets also look at some examples of preprocessed training examples. Feel free to play with `index` in the cell below to navigate the dataset and see how source/target dates are preprocessed. "
   ]
  },
  {
   "cell_type": "code",
   "execution_count": 5,
   "metadata": {
    "scrolled": true
   },
   "outputs": [
    {
     "name": "stdout",
     "output_type": "stream",
     "text": [
      "Source date: 9 may 1998\n",
      "Target date: 1998-05-09\n",
      "\n",
      "Source after preprocessing (indices): [12  0 24 13 34  0  4 12 12 11 36 36 36 36 36 36 36 36 36 36 36 36 36 36\n",
      " 36 36 36 36 36 36]\n",
      "Target after preprocessing (indices): [ 2 10 10  9  0  1  6  0  1 10]\n",
      "\n",
      "Source after preprocessing (one-hot): [[0. 0. 0. ... 0. 0. 0.]\n",
      " [1. 0. 0. ... 0. 0. 0.]\n",
      " [0. 0. 0. ... 0. 0. 0.]\n",
      " ...\n",
      " [0. 0. 0. ... 0. 0. 1.]\n",
      " [0. 0. 0. ... 0. 0. 1.]\n",
      " [0. 0. 0. ... 0. 0. 1.]]\n",
      "Target after preprocessing (one-hot): [[0. 0. 1. 0. 0. 0. 0. 0. 0. 0. 0.]\n",
      " [0. 0. 0. 0. 0. 0. 0. 0. 0. 0. 1.]\n",
      " [0. 0. 0. 0. 0. 0. 0. 0. 0. 0. 1.]\n",
      " [0. 0. 0. 0. 0. 0. 0. 0. 0. 1. 0.]\n",
      " [1. 0. 0. 0. 0. 0. 0. 0. 0. 0. 0.]\n",
      " [0. 1. 0. 0. 0. 0. 0. 0. 0. 0. 0.]\n",
      " [0. 0. 0. 0. 0. 0. 1. 0. 0. 0. 0.]\n",
      " [1. 0. 0. 0. 0. 0. 0. 0. 0. 0. 0.]\n",
      " [0. 1. 0. 0. 0. 0. 0. 0. 0. 0. 0.]\n",
      " [0. 0. 0. 0. 0. 0. 0. 0. 0. 0. 1.]]\n"
     ]
    }
   ],
   "source": [
    "index = 0\n",
    "print(\"Source date:\", dataset[index][0])\n",
    "print(\"Target date:\", dataset[index][1])\n",
    "print()\n",
    "print(\"Source after preprocessing (indices):\", X[index])\n",
    "print(\"Target after preprocessing (indices):\", Y[index])\n",
    "print()\n",
    "print(\"Source after preprocessing (one-hot):\", Xoh[index])\n",
    "print(\"Target after preprocessing (one-hot):\", Yoh[index])"
   ]
  },
  {
   "cell_type": "markdown",
   "metadata": {},
   "source": [
    "## 2 - Neural machine translation with attention\n",
    "\n",
    "If you had to translate a book's paragraph from French to English, you would not read the whole paragraph, then close the book and translate. Even during the translation process, you would read/re-read and focus on the parts of the French paragraph corresponding to the parts of the English you are writing down. \n",
    "\n",
    "The attention mechanism tells a Neural Machine Translation model where it should pay attention to at any step. \n",
    "\n",
    "\n",
    "### 2.1 - Attention mechanism\n",
    "\n",
    "In this part, you will implement the attention mechanism presented in the lecture videos. Here is a figure to remind you how the model works. The diagram on the left shows the attention model. The diagram on the right shows what one \"Attention\" step does to calculate the attention variables $\\alpha^{\\langle t, t' \\rangle}$, which are used to compute the context variable $context^{\\langle t \\rangle}$ for each timestep in the output ($t=1, \\ldots, T_y$). \n",
    "\n",
    "<table>\n",
    "<td> \n",
    "<img src=\"images/attn_model.png\" style=\"width:500;height:500px;\"> <br>\n",
    "</td> \n",
    "<td> \n",
    "<img src=\"images/attn_mechanism.png\" style=\"width:500;height:500px;\"> <br>\n",
    "</td> \n",
    "</table>\n",
    "<caption><center> **Figure 1**: Neural machine translation with attention</center></caption>\n"
   ]
  },
  {
   "cell_type": "markdown",
   "metadata": {},
   "source": [
    "\n",
    "Here are some properties of the model that you may notice: \n",
    "\n",
    "- There are two separate LSTMs in this model (see diagram on the left). Because the one at the bottom of the picture is a Bi-directional LSTM and comes *before* the attention mechanism, we will call it *pre-attention* Bi-LSTM. The LSTM at the top of the diagram comes *after* the attention mechanism, so we will call it the *post-attention* LSTM. The pre-attention Bi-LSTM goes through $T_x$ time steps; the post-attention LSTM goes through $T_y$ time steps. \n",
    "\n",
    "- The post-attention LSTM passes $s^{\\langle t \\rangle}, c^{\\langle t \\rangle}$ from one time step to the next. In the lecture videos, we were using only a basic RNN for the post-activation sequence model, so the state captured by the RNN output activations $s^{\\langle t\\rangle}$. But since we are using an LSTM here, the LSTM has both the output activation $s^{\\langle t\\rangle}$ and the hidden cell state $c^{\\langle t\\rangle}$. However, unlike previous text generation examples (such as Dinosaurus in week 1), in this model the post-activation LSTM at time $t$ does will not take the specific generated $y^{\\langle t-1 \\rangle}$ as input; it only takes $s^{\\langle t\\rangle}$ and $c^{\\langle t\\rangle}$ as input. We have designed the model this way, because (unlike language generation where adjacent characters are highly correlated) there isn't as strong a dependency between the previous character and the next character in a YYYY-MM-DD date. \n",
    "\n",
    "- We use $a^{\\langle t \\rangle} = [\\overrightarrow{a}^{\\langle t \\rangle}; \\overleftarrow{a}^{\\langle t \\rangle}]$ to represent the concatenation of the activations of both the forward-direction and backward-directions of the pre-attention Bi-LSTM. \n",
    "\n",
    "- The diagram on the right uses a `RepeatVector` node to copy $s^{\\langle t-1 \\rangle}$'s value $T_x$ times, and then `Concatenation` to concatenate $s^{\\langle t-1 \\rangle}$ and $a^{\\langle t \\rangle}$ to compute $e^{\\langle t, t'}$, which is then passed through a softmax to compute $\\alpha^{\\langle t, t' \\rangle}$. We'll explain how to use `RepeatVector` and `Concatenation` in Keras below. \n",
    "\n",
    "Lets implement this model. You will start by implementing two functions: `one_step_attention()` and `model()`.\n",
    "\n",
    "**1) `one_step_attention()`**: At step $t$, given all the hidden states of the Bi-LSTM ($[a^{<1>},a^{<2>}, ..., a^{<T_x>}]$) and the previous hidden state of the second LSTM ($s^{<t-1>}$), `one_step_attention()` will compute the attention weights ($[\\alpha^{<t,1>},\\alpha^{<t,2>}, ..., \\alpha^{<t,T_x>}]$) and output the context vector (see Figure  1 (right) for details):\n",
    "$$context^{<t>} = \\sum_{t' = 0}^{T_x} \\alpha^{<t,t'>}a^{<t'>}\\tag{1}$$ \n",
    "\n",
    "Note that we are denoting the attention in this notebook $context^{\\langle t \\rangle}$. In the lecture videos, the context was denoted $c^{\\langle t \\rangle}$, but here we are calling it $context^{\\langle t \\rangle}$ to avoid confusion with the (post-attention) LSTM's internal memory cell variable, which is sometimes also denoted $c^{\\langle t \\rangle}$. \n",
    "  \n",
    "**2) `model()`**: Implements the entire model. It first runs the input through a Bi-LSTM to get back $[a^{<1>},a^{<2>}, ..., a^{<T_x>}]$. Then, it calls `one_step_attention()` $T_y$ times (`for` loop). At each iteration of this loop, it gives the computed context vector $c^{<t>}$ to the second LSTM, and runs the output of the LSTM through a dense layer with softmax activation to generate a prediction $\\hat{y}^{<t>}$. \n",
    "\n",
    "\n",
    "\n",
    "**Exercise**: Implement `one_step_attention()`. The function `model()` will call the layers in `one_step_attention()` $T_y$ using a for-loop, and it is important that all $T_y$ copies have the same weights. I.e., it should not re-initiaiize the weights every time. In other words, all $T_y$ steps should have shared weights. Here's how you can implement layers with shareable weights in Keras:\n",
    "1. Define the layer objects (as global variables for examples).\n",
    "2. Call these objects when propagating the input.\n",
    "\n",
    "We have defined the layers you need as global variables. Please run the following cells to create them. Please check the Keras documentation to make sure you understand what these layers are: [RepeatVector()](https://keras.io/layers/core/#repeatvector), [Concatenate()](https://keras.io/layers/merge/#concatenate), [Dense()](https://keras.io/layers/core/#dense), [Activation()](https://keras.io/layers/core/#activation), [Dot()](https://keras.io/layers/merge/#dot)."
   ]
  },
  {
   "cell_type": "code",
   "execution_count": 6,
   "metadata": {},
   "outputs": [],
   "source": [
    "# Defined shared layers as global variables\n",
    "repeator = RepeatVector(Tx)\n",
    "concatenator = Concatenate(axis=-1)\n",
    "densor1 = Dense(10, activation = \"tanh\")\n",
    "densor2 = Dense(1, activation = \"relu\")\n",
    "activator = Activation(softmax, name='attention_weights') # We are using a custom softmax(axis = 1) loaded in this notebook\n",
    "dotor = Dot(axes = 1)"
   ]
  },
  {
   "cell_type": "markdown",
   "metadata": {},
   "source": [
    "Now you can use these layers to implement `one_step_attention()`. In order to propagate a Keras tensor object X through one of these layers, use `layer(X)` (or `layer([X,Y])` if it requires multiple inputs.), e.g. `densor(X)` will propagate X through the `Dense(1)` layer defined above."
   ]
  },
  {
   "cell_type": "code",
   "execution_count": 7,
   "metadata": {},
   "outputs": [],
   "source": [
    "# GRADED FUNCTION: one_step_attention\n",
    "\n",
    "def one_step_attention(a, s_prev):\n",
    "    \"\"\"\n",
    "    Performs one step of attention: Outputs a context vector computed as a dot product of the attention weights\n",
    "    \"alphas\" and the hidden states \"a\" of the Bi-LSTM.\n",
    "    \n",
    "    Arguments:\n",
    "    a -- hidden state output of the Bi-LSTM, numpy-array of shape (m, Tx, 2*n_a)\n",
    "    s_prev -- previous hidden state of the (post-attention) LSTM, numpy-array of shape (m, n_s)\n",
    "    \n",
    "    Returns:\n",
    "    context -- context vector, input of the next (post-attetion) LSTM cell\n",
    "    \"\"\"\n",
    "    \n",
    "    ### START CODE HERE ###\n",
    "    # Use repeator to repeat s_prev to be of shape (m, Tx, n_s) so that you can concatenate it with all hidden states \"a\" (≈ 1 line)\n",
    "    s_prev = repeator(s_prev)\n",
    "    # Use concatenator to concatenate a and s_prev on the last axis (≈ 1 line)\n",
    "    concat = concatenator([a, s_prev])\n",
    "    # Use densor1 to propagate concat through a small fully-connected neural network to compute the \"intermediate energies\" variable e. (≈1 lines)\n",
    "    e = densor1(concat)\n",
    "    # Use densor2 to propagate e through a small fully-connected neural network to compute the \"energies\" variable energies. (≈1 lines)\n",
    "    energies = densor2(e)\n",
    "    # Use \"activator\" on \"energies\" to compute the attention weights \"alphas\" (≈ 1 line)\n",
    "    alphas = activator(energies)\n",
    "    # Use dotor together with \"alphas\" and \"a\" to compute the context vector to be given to the next (post-attention) LSTM-cell (≈ 1 line)\n",
    "    context = dotor([alphas, a])\n",
    "    ### END CODE HERE ###\n",
    "    \n",
    "    return context"
   ]
  },
  {
   "cell_type": "markdown",
   "metadata": {},
   "source": [
    "You will be able to check the expected output of `one_step_attention()` after you've coded the `model()` function."
   ]
  },
  {
   "cell_type": "markdown",
   "metadata": {},
   "source": [
    "**Exercise**: Implement `model()` as explained in figure 2 and the text above. Again, we have defined global layers that will share weights to be used in `model()`."
   ]
  },
  {
   "cell_type": "code",
   "execution_count": 8,
   "metadata": {},
   "outputs": [],
   "source": [
    "n_a = 32\n",
    "n_s = 64\n",
    "post_activation_LSTM_cell = LSTM(n_s, return_state = True)\n",
    "output_layer = Dense(len(machine_vocab), activation=softmax)"
   ]
  },
  {
   "cell_type": "markdown",
   "metadata": {},
   "source": [
    "Now you can use these layers $T_y$ times in a `for` loop to generate the outputs, and their parameters will not be reinitialized. You will have to carry out the following steps: \n",
    "\n",
    "1. Propagate the input into a [Bidirectional](https://keras.io/layers/wrappers/#bidirectional) [LSTM](https://keras.io/layers/recurrent/#lstm)\n",
    "2. Iterate for $t = 0, \\dots, T_y-1$: \n",
    "    1. Call `one_step_attention()` on $[\\alpha^{<t,1>},\\alpha^{<t,2>}, ..., \\alpha^{<t,T_x>}]$ and $s^{<t-1>}$ to get the context vector $context^{<t>}$.\n",
    "    2. Give $context^{<t>}$ to the post-attention LSTM cell. Remember pass in the previous hidden-state $s^{\\langle t-1\\rangle}$ and cell-states $c^{\\langle t-1\\rangle}$ of this LSTM using `initial_state= [previous hidden state, previous cell state]`. Get back the new hidden state $s^{<t>}$ and the new cell state $c^{<t>}$.\n",
    "    3. Apply a softmax layer to $s^{<t>}$, get the output. \n",
    "    4. Save the output by adding it to the list of outputs.\n",
    "\n",
    "3. Create your Keras model instance, it should have three inputs (\"inputs\", $s^{<0>}$ and $c^{<0>}$) and output the list of \"outputs\"."
   ]
  },
  {
   "cell_type": "code",
   "execution_count": 9,
   "metadata": {},
   "outputs": [],
   "source": [
    "# GRADED FUNCTION: model\n",
    "\n",
    "def model(Tx, Ty, n_a, n_s, human_vocab_size, machine_vocab_size):\n",
    "    \"\"\"\n",
    "    Arguments:\n",
    "    Tx -- length of the input sequence\n",
    "    Ty -- length of the output sequence\n",
    "    n_a -- hidden state size of the Bi-LSTM\n",
    "    n_s -- hidden state size of the post-attention LSTM\n",
    "    human_vocab_size -- size of the python dictionary \"human_vocab\"\n",
    "    machine_vocab_size -- size of the python dictionary \"machine_vocab\"\n",
    "\n",
    "    Returns:\n",
    "    model -- Keras model instance\n",
    "    \"\"\"\n",
    "    \n",
    "    # Define the inputs of your model with a shape (Tx,)\n",
    "    # Define s0 and c0, initial hidden state for the decoder LSTM of shape (n_s,)\n",
    "    X = Input(shape=(Tx, human_vocab_size))\n",
    "    s0 = Input(shape=(n_s,), name='s0')\n",
    "    c0 = Input(shape=(n_s,), name='c0')\n",
    "    s = s0\n",
    "    c = c0\n",
    "    \n",
    "    # Initialize empty list of outputs\n",
    "    outputs = []\n",
    "    \n",
    "    ### START CODE HERE ###\n",
    "    \n",
    "    # Step 1: Define your pre-attention Bi-LSTM. Remember to use return_sequences=True. (≈ 1 line)\n",
    "    a = Bidirectional(LSTM(n_a, return_sequences=True))(X)\n",
    "    \n",
    "    # Step 2: Iterate for Ty steps\n",
    "    for t in range(Ty):\n",
    "    \n",
    "        # Step 2.A: Perform one step of the attention mechanism to get back the context vector at step t (≈ 1 line)\n",
    "        context = one_step_attention(a, s)\n",
    "        \n",
    "        # Step 2.B: Apply the post-attention LSTM cell to the \"context\" vector.\n",
    "        # Don't forget to pass: initial_state = [hidden state, cell state] (≈ 1 line)\n",
    "        s, _, c = post_activation_LSTM_cell(context, initial_state=[s, c])\n",
    "        \n",
    "        # Step 2.C: Apply Dense layer to the hidden state output of the post-attention LSTM (≈ 1 line)\n",
    "        out = output_layer(s)\n",
    "        \n",
    "        # Step 2.D: Append \"out\" to the \"outputs\" list (≈ 1 line)\n",
    "        outputs.append(out)\n",
    "    \n",
    "    # Step 3: Create model instance taking three inputs and returning the list of outputs. (≈ 1 line)\n",
    "    model = Model(inputs=[X, s0, c0], outputs=outputs)\n",
    "    \n",
    "    ### END CODE HERE ###\n",
    "    \n",
    "    return model"
   ]
  },
  {
   "cell_type": "markdown",
   "metadata": {},
   "source": [
    "Run the following cell to create your model."
   ]
  },
  {
   "cell_type": "code",
   "execution_count": 10,
   "metadata": {},
   "outputs": [
    {
     "name": "stdout",
     "output_type": "stream",
     "text": [
      "WARNING:tensorflow:From C:\\Users\\hdeng8\\AppData\\Local\\Continuum\\anaconda3\\lib\\site-packages\\tensorflow\\python\\framework\\op_def_library.py:263: colocate_with (from tensorflow.python.framework.ops) is deprecated and will be removed in a future version.\n",
      "Instructions for updating:\n",
      "Colocations handled automatically by placer.\n"
     ]
    }
   ],
   "source": [
    "model = model(Tx, Ty, n_a, n_s, len(human_vocab), len(machine_vocab))"
   ]
  },
  {
   "cell_type": "markdown",
   "metadata": {},
   "source": [
    "Let's get a summary of the model to check if it matches the expected output."
   ]
  },
  {
   "cell_type": "code",
   "execution_count": 11,
   "metadata": {},
   "outputs": [
    {
     "name": "stdout",
     "output_type": "stream",
     "text": [
      "__________________________________________________________________________________________________\n",
      "Layer (type)                    Output Shape         Param #     Connected to                     \n",
      "==================================================================================================\n",
      "input_1 (InputLayer)            (None, 30, 37)       0                                            \n",
      "__________________________________________________________________________________________________\n",
      "s0 (InputLayer)                 (None, 64)           0                                            \n",
      "__________________________________________________________________________________________________\n",
      "bidirectional_1 (Bidirectional) (None, 30, 64)       17920       input_1[0][0]                    \n",
      "__________________________________________________________________________________________________\n",
      "repeat_vector_1 (RepeatVector)  (None, 30, 64)       0           s0[0][0]                         \n",
      "                                                                 lstm_1[0][0]                     \n",
      "                                                                 lstm_1[1][0]                     \n",
      "                                                                 lstm_1[2][0]                     \n",
      "                                                                 lstm_1[3][0]                     \n",
      "                                                                 lstm_1[4][0]                     \n",
      "                                                                 lstm_1[5][0]                     \n",
      "                                                                 lstm_1[6][0]                     \n",
      "                                                                 lstm_1[7][0]                     \n",
      "                                                                 lstm_1[8][0]                     \n",
      "__________________________________________________________________________________________________\n",
      "concatenate_1 (Concatenate)     (None, 30, 128)      0           bidirectional_1[0][0]            \n",
      "                                                                 repeat_vector_1[0][0]            \n",
      "                                                                 bidirectional_1[0][0]            \n",
      "                                                                 repeat_vector_1[1][0]            \n",
      "                                                                 bidirectional_1[0][0]            \n",
      "                                                                 repeat_vector_1[2][0]            \n",
      "                                                                 bidirectional_1[0][0]            \n",
      "                                                                 repeat_vector_1[3][0]            \n",
      "                                                                 bidirectional_1[0][0]            \n",
      "                                                                 repeat_vector_1[4][0]            \n",
      "                                                                 bidirectional_1[0][0]            \n",
      "                                                                 repeat_vector_1[5][0]            \n",
      "                                                                 bidirectional_1[0][0]            \n",
      "                                                                 repeat_vector_1[6][0]            \n",
      "                                                                 bidirectional_1[0][0]            \n",
      "                                                                 repeat_vector_1[7][0]            \n",
      "                                                                 bidirectional_1[0][0]            \n",
      "                                                                 repeat_vector_1[8][0]            \n",
      "                                                                 bidirectional_1[0][0]            \n",
      "                                                                 repeat_vector_1[9][0]            \n",
      "__________________________________________________________________________________________________\n",
      "dense_1 (Dense)                 (None, 30, 10)       1290        concatenate_1[0][0]              \n",
      "                                                                 concatenate_1[1][0]              \n",
      "                                                                 concatenate_1[2][0]              \n",
      "                                                                 concatenate_1[3][0]              \n",
      "                                                                 concatenate_1[4][0]              \n",
      "                                                                 concatenate_1[5][0]              \n",
      "                                                                 concatenate_1[6][0]              \n",
      "                                                                 concatenate_1[7][0]              \n",
      "                                                                 concatenate_1[8][0]              \n",
      "                                                                 concatenate_1[9][0]              \n",
      "__________________________________________________________________________________________________\n",
      "dense_2 (Dense)                 (None, 30, 1)        11          dense_1[0][0]                    \n",
      "                                                                 dense_1[1][0]                    \n",
      "                                                                 dense_1[2][0]                    \n",
      "                                                                 dense_1[3][0]                    \n",
      "                                                                 dense_1[4][0]                    \n",
      "                                                                 dense_1[5][0]                    \n",
      "                                                                 dense_1[6][0]                    \n",
      "                                                                 dense_1[7][0]                    \n",
      "                                                                 dense_1[8][0]                    \n",
      "                                                                 dense_1[9][0]                    \n",
      "__________________________________________________________________________________________________\n",
      "attention_weights (Activation)  (None, 30, 1)        0           dense_2[0][0]                    \n",
      "                                                                 dense_2[1][0]                    \n",
      "                                                                 dense_2[2][0]                    \n",
      "                                                                 dense_2[3][0]                    \n",
      "                                                                 dense_2[4][0]                    \n",
      "                                                                 dense_2[5][0]                    \n",
      "                                                                 dense_2[6][0]                    \n",
      "                                                                 dense_2[7][0]                    \n",
      "                                                                 dense_2[8][0]                    \n",
      "                                                                 dense_2[9][0]                    \n",
      "__________________________________________________________________________________________________\n",
      "dot_1 (Dot)                     (None, 1, 64)        0           attention_weights[0][0]          \n",
      "                                                                 bidirectional_1[0][0]            \n",
      "                                                                 attention_weights[1][0]          \n",
      "                                                                 bidirectional_1[0][0]            \n",
      "                                                                 attention_weights[2][0]          \n",
      "                                                                 bidirectional_1[0][0]            \n",
      "                                                                 attention_weights[3][0]          \n",
      "                                                                 bidirectional_1[0][0]            \n"
     ]
    },
    {
     "name": "stdout",
     "output_type": "stream",
     "text": [
      "                                                                 attention_weights[4][0]          \n",
      "                                                                 bidirectional_1[0][0]            \n",
      "                                                                 attention_weights[5][0]          \n",
      "                                                                 bidirectional_1[0][0]            \n",
      "                                                                 attention_weights[6][0]          \n",
      "                                                                 bidirectional_1[0][0]            \n",
      "                                                                 attention_weights[7][0]          \n",
      "                                                                 bidirectional_1[0][0]            \n",
      "                                                                 attention_weights[8][0]          \n",
      "                                                                 bidirectional_1[0][0]            \n",
      "                                                                 attention_weights[9][0]          \n",
      "                                                                 bidirectional_1[0][0]            \n",
      "__________________________________________________________________________________________________\n",
      "c0 (InputLayer)                 (None, 64)           0                                            \n",
      "__________________________________________________________________________________________________\n",
      "lstm_1 (LSTM)                   [(None, 64), (None,  33024       dot_1[0][0]                      \n",
      "                                                                 s0[0][0]                         \n",
      "                                                                 c0[0][0]                         \n",
      "                                                                 dot_1[1][0]                      \n",
      "                                                                 lstm_1[0][0]                     \n",
      "                                                                 lstm_1[0][2]                     \n",
      "                                                                 dot_1[2][0]                      \n",
      "                                                                 lstm_1[1][0]                     \n",
      "                                                                 lstm_1[1][2]                     \n",
      "                                                                 dot_1[3][0]                      \n",
      "                                                                 lstm_1[2][0]                     \n",
      "                                                                 lstm_1[2][2]                     \n",
      "                                                                 dot_1[4][0]                      \n",
      "                                                                 lstm_1[3][0]                     \n",
      "                                                                 lstm_1[3][2]                     \n",
      "                                                                 dot_1[5][0]                      \n",
      "                                                                 lstm_1[4][0]                     \n",
      "                                                                 lstm_1[4][2]                     \n",
      "                                                                 dot_1[6][0]                      \n",
      "                                                                 lstm_1[5][0]                     \n",
      "                                                                 lstm_1[5][2]                     \n",
      "                                                                 dot_1[7][0]                      \n",
      "                                                                 lstm_1[6][0]                     \n",
      "                                                                 lstm_1[6][2]                     \n",
      "                                                                 dot_1[8][0]                      \n",
      "                                                                 lstm_1[7][0]                     \n",
      "                                                                 lstm_1[7][2]                     \n",
      "                                                                 dot_1[9][0]                      \n",
      "                                                                 lstm_1[8][0]                     \n",
      "                                                                 lstm_1[8][2]                     \n",
      "__________________________________________________________________________________________________\n",
      "dense_3 (Dense)                 (None, 11)           715         lstm_1[0][0]                     \n",
      "                                                                 lstm_1[1][0]                     \n",
      "                                                                 lstm_1[2][0]                     \n",
      "                                                                 lstm_1[3][0]                     \n",
      "                                                                 lstm_1[4][0]                     \n",
      "                                                                 lstm_1[5][0]                     \n",
      "                                                                 lstm_1[6][0]                     \n",
      "                                                                 lstm_1[7][0]                     \n",
      "                                                                 lstm_1[8][0]                     \n",
      "                                                                 lstm_1[9][0]                     \n",
      "==================================================================================================\n",
      "Total params: 52,960\n",
      "Trainable params: 52,960\n",
      "Non-trainable params: 0\n",
      "__________________________________________________________________________________________________\n"
     ]
    }
   ],
   "source": [
    "model.summary()"
   ]
  },
  {
   "cell_type": "markdown",
   "metadata": {},
   "source": [
    "**Expected Output**:\n",
    "\n",
    "Here is the summary you should see\n",
    "<table>\n",
    "    <tr>\n",
    "        <td>\n",
    "            **Total params:**\n",
    "        </td>\n",
    "        <td>\n",
    "         52,960\n",
    "        </td>\n",
    "    </tr>\n",
    "        <tr>\n",
    "        <td>\n",
    "            **Trainable params:**\n",
    "        </td>\n",
    "        <td>\n",
    "         52,960\n",
    "        </td>\n",
    "    </tr>\n",
    "            <tr>\n",
    "        <td>\n",
    "            **Non-trainable params:**\n",
    "        </td>\n",
    "        <td>\n",
    "         0\n",
    "        </td>\n",
    "    </tr>\n",
    "                    <tr>\n",
    "        <td>\n",
    "            **bidirectional_1's output shape **\n",
    "        </td>\n",
    "        <td>\n",
    "         (None, 30, 64)  \n",
    "        </td>\n",
    "    </tr>\n",
    "    <tr>\n",
    "        <td>\n",
    "            **repeat_vector_1's output shape **\n",
    "        </td>\n",
    "        <td>\n",
    "         (None, 30, 64) \n",
    "        </td>\n",
    "    </tr>\n",
    "                <tr>\n",
    "        <td>\n",
    "            **concatenate_1's output shape **\n",
    "        </td>\n",
    "        <td>\n",
    "         (None, 30, 128) \n",
    "        </td>\n",
    "    </tr>\n",
    "            <tr>\n",
    "        <td>\n",
    "            **attention_weights's output shape **\n",
    "        </td>\n",
    "        <td>\n",
    "         (None, 30, 1)  \n",
    "        </td>\n",
    "    </tr>\n",
    "        <tr>\n",
    "        <td>\n",
    "            **dot_1's output shape **\n",
    "        </td>\n",
    "        <td>\n",
    "         (None, 1, 64)\n",
    "        </td>\n",
    "    </tr>\n",
    "           <tr>\n",
    "        <td>\n",
    "            **dense_3's output shape **\n",
    "        </td>\n",
    "        <td>\n",
    "         (None, 11) \n",
    "        </td>\n",
    "    </tr>\n",
    "</table>\n"
   ]
  },
  {
   "cell_type": "markdown",
   "metadata": {},
   "source": [
    "As usual, after creating your model in Keras, you need to compile it and define what loss, optimizer and metrics your are want to use. Compile your model using `categorical_crossentropy` loss, a custom [Adam](https://keras.io/optimizers/#adam) [optimizer](https://keras.io/optimizers/#usage-of-optimizers) (`learning rate = 0.005`, $\\beta_1 = 0.9$, $\\beta_2 = 0.999$, `decay = 0.01`)  and `['accuracy']` metrics:"
   ]
  },
  {
   "cell_type": "code",
   "execution_count": 12,
   "metadata": {},
   "outputs": [],
   "source": [
    "### START CODE HERE ### (≈2 lines)\n",
    "opt = Adam(lr=0.005, beta_1=0.9, beta_2=0.999, epsilon=None, decay=0.01)\n",
    "model.compile(loss='categorical_crossentropy', optimizer=opt, metrics=['accuracy'])\n",
    "### END CODE HERE ###"
   ]
  },
  {
   "cell_type": "markdown",
   "metadata": {},
   "source": [
    "The last step is to define all your inputs and outputs to fit the model:\n",
    "- You already have X of shape $(m = 10000, T_x = 30)$ containing the training examples.\n",
    "- You need to create `s0` and `c0` to initialize your `post_activation_LSTM_cell` with 0s.\n",
    "- Given the `model()` you coded, you need the \"outputs\" to be a list of 11 elements of shape (m, T_y). So that: `outputs[i][0], ..., outputs[i][Ty]` represent the true labels (characters) corresponding to the $i^{th}$ training example (`X[i]`). More generally, `outputs[i][j]` is the true label of the $j^{th}$ character in the $i^{th}$ training example."
   ]
  },
  {
   "cell_type": "code",
   "execution_count": 13,
   "metadata": {},
   "outputs": [],
   "source": [
    "s0 = np.zeros((m, n_s))\n",
    "c0 = np.zeros((m, n_s))\n",
    "outputs = list(Yoh.swapaxes(0,1))"
   ]
  },
  {
   "cell_type": "markdown",
   "metadata": {},
   "source": [
    "Let's now fit the model and run it for one epoch."
   ]
  },
  {
   "cell_type": "code",
   "execution_count": 14,
   "metadata": {},
   "outputs": [
    {
     "name": "stdout",
     "output_type": "stream",
     "text": [
      "WARNING:tensorflow:From C:\\Users\\hdeng8\\AppData\\Local\\Continuum\\anaconda3\\lib\\site-packages\\tensorflow\\python\\ops\\math_ops.py:3066: to_int32 (from tensorflow.python.ops.math_ops) is deprecated and will be removed in a future version.\n",
      "Instructions for updating:\n",
      "Use tf.cast instead.\n",
      "WARNING:tensorflow:From C:\\Users\\hdeng8\\AppData\\Local\\Continuum\\anaconda3\\lib\\site-packages\\tensorflow\\python\\ops\\math_grad.py:102: div (from tensorflow.python.ops.math_ops) is deprecated and will be removed in a future version.\n",
      "Instructions for updating:\n",
      "Deprecated in favor of operator or tf.math.divide.\n",
      "Epoch 1/1\n"
     ]
    },
    {
     "name": "stdout",
     "output_type": "stream",
     "text": [
      " 2900/10000 [=======>......................] - ETA: 39:18 - loss: 23.9987 - dense_3_loss: 2.3983 - dense_3_acc: 0.0200 - dense_3_acc_1: 0.0000e+00 - dense_3_acc_2: 0.0000e+00 - dense_3_acc_3: 0.1000 - dense_3_acc_4: 0.0000e+00 - dense_3_acc_5: 0.0300 - dense_3_acc_6: 0.1000 - dense_3_acc_7: 0.0000e+00 - dense_3_acc_8: 0.0400 - dense_3_acc_9: 0.08 - ETA: 19:35 - loss: 23.8129 - dense_3_loss: 2.4042 - dense_3_acc: 0.1650 - dense_3_acc_1: 0.1100 - dense_3_acc_2: 0.0750 - dense_3_acc_3: 0.1100 - dense_3_acc_4: 0.0750 - dense_3_acc_5: 0.3300 - dense_3_acc_6: 0.0800 - dense_3_acc_7: 0.0850 - dense_3_acc_8: 0.1300 - dense_3_acc_9: 0.0750               - ETA: 13:01 - loss: 23.5997 - dense_3_loss: 2.4071 - dense_3_acc: 0.1133 - dense_3_acc_1: 0.0733 - dense_3_acc_2: 0.0500 - dense_3_acc_3: 0.0733 - dense_3_acc_4: 0.3833 - dense_3_acc_5: 0.2200 - dense_3_acc_6: 0.0533 - dense_3_acc_7: 0.3900 - dense_3_acc_8: 0.0867 - dense_3_acc_9: 0.05 - ETA: 9:43 - loss: 23.3250 - dense_3_loss: 2.4228 - dense_3_acc: 0.0850 - dense_3_acc_1: 0.0550 - dense_3_acc_2: 0.0375 - dense_3_acc_3: 0.0550 - dense_3_acc_4: 0.5375 - dense_3_acc_5: 0.1650 - dense_3_acc_6: 0.0400 - dense_3_acc_7: 0.5425 - dense_3_acc_8: 0.0650 - dense_3_acc_9: 0.0375 - ETA: 7:45 - loss: 23.0838 - dense_3_loss: 2.5166 - dense_3_acc: 0.0680 - dense_3_acc_1: 0.0440 - dense_3_acc_2: 0.0300 - dense_3_acc_3: 0.0440 - dense_3_acc_4: 0.6300 - dense_3_acc_5: 0.1320 - dense_3_acc_6: 0.0320 - dense_3_acc_7: 0.6340 - dense_3_acc_8: 0.0520 - dense_3_acc_9: 0.030 - ETA: 6:27 - loss: 22.9184 - dense_3_loss: 2.6677 - dense_3_acc: 0.0567 - dense_3_acc_1: 0.0367 - dense_3_acc_2: 0.0250 - dense_3_acc_3: 0.0367 - dense_3_acc_4: 0.6917 - dense_3_acc_5: 0.1100 - dense_3_acc_6: 0.0267 - dense_3_acc_7: 0.6950 - dense_3_acc_8: 0.0433 - dense_3_acc_9: 0.025 - ETA: 5:30 - loss: 22.8436 - dense_3_loss: 2.7856 - dense_3_acc: 0.0486 - dense_3_acc_1: 0.0314 - dense_3_acc_2: 0.0214 - dense_3_acc_3: 0.0314 - dense_3_acc_4: 0.7357 - dense_3_acc_5: 0.0943 - dense_3_acc_6: 0.0229 - dense_3_acc_7: 0.7386 - dense_3_acc_8: 0.0371 - dense_3_acc_9: 0.021 - ETA: 4:48 - loss: 22.7425 - dense_3_loss: 2.8459 - dense_3_acc: 0.0425 - dense_3_acc_1: 0.0700 - dense_3_acc_2: 0.0375 - dense_3_acc_3: 0.0312 - dense_3_acc_4: 0.7688 - dense_3_acc_5: 0.0825 - dense_3_acc_6: 0.0200 - dense_3_acc_7: 0.7713 - dense_3_acc_8: 0.0325 - dense_3_acc_9: 0.018 - ETA: 4:15 - loss: 22.5944 - dense_3_loss: 2.8555 - dense_3_acc: 0.0378 - dense_3_acc_1: 0.1200 - dense_3_acc_2: 0.0622 - dense_3_acc_3: 0.0378 - dense_3_acc_4: 0.7811 - dense_3_acc_5: 0.0733 - dense_3_acc_6: 0.0178 - dense_3_acc_7: 0.7967 - dense_3_acc_8: 0.0289 - dense_3_acc_9: 0.016 - ETA: 3:48 - loss: 22.4901 - dense_3_loss: 2.8556 - dense_3_acc: 0.0340 - dense_3_acc_1: 0.1380 - dense_3_acc_2: 0.0740 - dense_3_acc_3: 0.0410 - dense_3_acc_4: 0.7800 - dense_3_acc_5: 0.0660 - dense_3_acc_6: 0.0160 - dense_3_acc_7: 0.8170 - dense_3_acc_8: 0.0260 - dense_3_acc_9: 0.015 - ETA: 3:26 - loss: 22.3952 - dense_3_loss: 2.8504 - dense_3_acc: 0.0309 - dense_3_acc_1: 0.1682 - dense_3_acc_2: 0.0927 - dense_3_acc_3: 0.0427 - dense_3_acc_4: 0.8000 - dense_3_acc_5: 0.0600 - dense_3_acc_6: 0.0145 - dense_3_acc_7: 0.8336 - dense_3_acc_8: 0.0236 - dense_3_acc_9: 0.013 - ETA: 3:08 - loss: 22.3312 - dense_3_loss: 2.8509 - dense_3_acc: 0.0283 - dense_3_acc_1: 0.1842 - dense_3_acc_2: 0.0992 - dense_3_acc_3: 0.0417 - dense_3_acc_4: 0.8167 - dense_3_acc_5: 0.0550 - dense_3_acc_6: 0.0133 - dense_3_acc_7: 0.8475 - dense_3_acc_8: 0.0217 - dense_3_acc_9: 0.012 - ETA: 2:53 - loss: 22.2572 - dense_3_loss: 2.8491 - dense_3_acc: 0.0262 - dense_3_acc_1: 0.2023 - dense_3_acc_2: 0.1077 - dense_3_acc_3: 0.0385 - dense_3_acc_4: 0.8308 - dense_3_acc_5: 0.0508 - dense_3_acc_6: 0.0123 - dense_3_acc_7: 0.8592 - dense_3_acc_8: 0.0200 - dense_3_acc_9: 0.011 - ETA: 2:40 - loss: 22.2030 - dense_3_loss: 2.8468 - dense_3_acc: 0.0243 - dense_3_acc_1: 0.2114 - dense_3_acc_2: 0.1107 - dense_3_acc_3: 0.0357 - dense_3_acc_4: 0.8429 - dense_3_acc_5: 0.0471 - dense_3_acc_6: 0.0114 - dense_3_acc_7: 0.8693 - dense_3_acc_8: 0.0186 - dense_3_acc_9: 0.010 - ETA: 2:28 - loss: 22.1299 - dense_3_loss: 2.8388 - dense_3_acc: 0.0227 - dense_3_acc_1: 0.2260 - dense_3_acc_2: 0.1180 - dense_3_acc_3: 0.0333 - dense_3_acc_4: 0.8533 - dense_3_acc_5: 0.0440 - dense_3_acc_6: 0.0107 - dense_3_acc_7: 0.8780 - dense_3_acc_8: 0.0173 - dense_3_acc_9: 0.010 - ETA: 2:18 - loss: 22.0749 - dense_3_loss: 2.8427 - dense_3_acc: 0.0213 - dense_3_acc_1: 0.2375 - dense_3_acc_2: 0.1238 - dense_3_acc_3: 0.0312 - dense_3_acc_4: 0.8625 - dense_3_acc_5: 0.0412 - dense_3_acc_6: 0.0100 - dense_3_acc_7: 0.8856 - dense_3_acc_8: 0.0162 - dense_3_acc_9: 0.009 - ETA: 2:09 - loss: 22.0217 - dense_3_loss: 2.8440 - dense_3_acc: 0.0200 - dense_3_acc_1: 0.2518 - dense_3_acc_2: 0.1318 - dense_3_acc_3: 0.0294 - dense_3_acc_4: 0.8706 - dense_3_acc_5: 0.0388 - dense_3_acc_6: 0.0094 - dense_3_acc_7: 0.8924 - dense_3_acc_8: 0.0153 - dense_3_acc_9: 0.008 - ETA: 2:02 - loss: 21.9621 - dense_3_loss: 2.8512 - dense_3_acc: 0.0189 - dense_3_acc_1: 0.2583 - dense_3_acc_2: 0.1372 - dense_3_acc_3: 0.0289 - dense_3_acc_4: 0.8778 - dense_3_acc_5: 0.0367 - dense_3_acc_6: 0.0089 - dense_3_acc_7: 0.8983 - dense_3_acc_8: 0.0144 - dense_3_acc_9: 0.008 - ETA: 1:55 - loss: 21.9242 - dense_3_loss: 2.8539 - dense_3_acc: 0.0179 - dense_3_acc_1: 0.2605 - dense_3_acc_2: 0.1389 - dense_3_acc_3: 0.0316 - dense_3_acc_4: 0.8842 - dense_3_acc_5: 0.0347 - dense_3_acc_6: 0.0084 - dense_3_acc_7: 0.9037 - dense_3_acc_8: 0.0137 - dense_3_acc_9: 0.007 - ETA: 1:48 - loss: 21.8754 - dense_3_loss: 2.8573 - dense_3_acc: 0.0170 - dense_3_acc_1: 0.2655 - dense_3_acc_2: 0.1405 - dense_3_acc_3: 0.0360 - dense_3_acc_4: 0.8900 - dense_3_acc_5: 0.0330 - dense_3_acc_6: 0.0080 - dense_3_acc_7: 0.9085 - dense_3_acc_8: 0.0130 - dense_3_acc_9: 0.007 - ETA: 1:42 - loss: 21.8319 - dense_3_loss: 2.8642 - dense_3_acc: 0.0162 - dense_3_acc_1: 0.2724 - dense_3_acc_2: 0.1452 - dense_3_acc_3: 0.0400 - dense_3_acc_4: 0.8886 - dense_3_acc_5: 0.0314 - dense_3_acc_6: 0.0076 - dense_3_acc_7: 0.9129 - dense_3_acc_8: 0.0124 - dense_3_acc_9: 0.007 - ETA: 1:37 - loss: 21.7828 - dense_3_loss: 2.8637 - dense_3_acc: 0.0155 - dense_3_acc_1: 0.2736 - dense_3_acc_2: 0.1455 - dense_3_acc_3: 0.0423 - dense_3_acc_4: 0.8909 - dense_3_acc_5: 0.0300 - dense_3_acc_6: 0.0073 - dense_3_acc_7: 0.9168 - dense_3_acc_8: 0.0118 - dense_3_acc_9: 0.006 - ETA: 1:32 - loss: 21.7406 - dense_3_loss: 2.8646 - dense_3_acc: 0.0148 - dense_3_acc_1: 0.2765 - dense_3_acc_2: 0.1457 - dense_3_acc_3: 0.0443 - dense_3_acc_4: 0.8957 - dense_3_acc_5: 0.0287 - dense_3_acc_6: 0.0070 - dense_3_acc_7: 0.9204 - dense_3_acc_8: 0.0113 - dense_3_acc_9: 0.006 - ETA: 1:28 - loss: 21.6917 - dense_3_loss: 2.8648 - dense_3_acc: 0.0142 - dense_3_acc_1: 0.2788 - dense_3_acc_2: 0.1446 - dense_3_acc_3: 0.0433 - dense_3_acc_4: 0.9000 - dense_3_acc_5: 0.0275 - dense_3_acc_6: 0.0067 - dense_3_acc_7: 0.9238 - dense_3_acc_8: 0.0108 - dense_3_acc_9: 0.006 - ETA: 1:24 - loss: 21.6432 - dense_3_loss: 2.8634 - dense_3_acc: 0.0136 - dense_3_acc_1: 0.2848 - dense_3_acc_2: 0.1452 - dense_3_acc_3: 0.0416 - dense_3_acc_4: 0.9040 - dense_3_acc_5: 0.0264 - dense_3_acc_6: 0.0064 - dense_3_acc_7: 0.9268 - dense_3_acc_8: 0.0104 - dense_3_acc_9: 0.006 - ETA: 1:20 - loss: 21.6016 - dense_3_loss: 2.8602 - dense_3_acc: 0.0131 - dense_3_acc_1: 0.3015 - dense_3_acc_2: 0.1465 - dense_3_acc_3: 0.0400 - dense_3_acc_4: 0.9077 - dense_3_acc_5: 0.0254 - dense_3_acc_6: 0.0062 - dense_3_acc_7: 0.9296 - dense_3_acc_8: 0.0100 - dense_3_acc_9: 0.005 - ETA: 1:16 - loss: 21.5586 - dense_3_loss: 2.8584 - dense_3_acc: 0.0126 - dense_3_acc_1: 0.3122 - dense_3_acc_2: 0.1485 - dense_3_acc_3: 0.0426 - dense_3_acc_4: 0.9111 - dense_3_acc_5: 0.0244 - dense_3_acc_6: 0.0059 - dense_3_acc_7: 0.9322 - dense_3_acc_8: 0.0096 - dense_3_acc_9: 0.005 - ETA: 1:13 - loss: 21.5063 - dense_3_loss: 2.8527 - dense_3_acc: 0.0121 - dense_3_acc_1: 0.3211 - dense_3_acc_2: 0.1514 - dense_3_acc_3: 0.0450 - dense_3_acc_4: 0.9046 - dense_3_acc_5: 0.0236 - dense_3_acc_6: 0.0057 - dense_3_acc_7: 0.9346 - dense_3_acc_8: 0.0093 - dense_3_acc_9: 0.005 - ETA: 1:10 - loss: 21.4582 - dense_3_loss: 2.8486 - dense_3_acc: 0.0117 - dense_3_acc_1: 0.3300 - dense_3_acc_2: 0.1534 - dense_3_acc_3: 0.0472 - dense_3_acc_4: 0.9079 - dense_3_acc_5: 0.0228 - dense_3_acc_6: 0.0055 - dense_3_acc_7: 0.9369 - dense_3_acc_8: 0.0090 - dense_3_acc_9: 0.0052"
     ]
    },
    {
     "name": "stdout",
     "output_type": "stream",
     "text": [
      " 5800/10000 [================>.............] - ETA: 1:07 - loss: 21.4064 - dense_3_loss: 2.8443 - dense_3_acc: 0.0113 - dense_3_acc_1: 0.3393 - dense_3_acc_2: 0.1573 - dense_3_acc_3: 0.0477 - dense_3_acc_4: 0.9110 - dense_3_acc_5: 0.0220 - dense_3_acc_6: 0.0053 - dense_3_acc_7: 0.9390 - dense_3_acc_8: 0.0087 - dense_3_acc_9: 0.005 - ETA: 1:04 - loss: 21.3473 - dense_3_loss: 2.8369 - dense_3_acc: 0.0110 - dense_3_acc_1: 0.3474 - dense_3_acc_2: 0.1600 - dense_3_acc_3: 0.0487 - dense_3_acc_4: 0.9139 - dense_3_acc_5: 0.0213 - dense_3_acc_6: 0.0052 - dense_3_acc_7: 0.9410 - dense_3_acc_8: 0.0084 - dense_3_acc_9: 0.009 - ETA: 1:02 - loss: 21.2933 - dense_3_loss: 2.8335 - dense_3_acc: 0.0106 - dense_3_acc_1: 0.3556 - dense_3_acc_2: 0.1619 - dense_3_acc_3: 0.0481 - dense_3_acc_4: 0.9166 - dense_3_acc_5: 0.0206 - dense_3_acc_6: 0.0050 - dense_3_acc_7: 0.9428 - dense_3_acc_8: 0.0081 - dense_3_acc_9: 0.012 - ETA: 59s - loss: 21.2463 - dense_3_loss: 2.8327 - dense_3_acc: 0.0106 - dense_3_acc_1: 0.3624 - dense_3_acc_2: 0.1624 - dense_3_acc_3: 0.0473 - dense_3_acc_4: 0.9191 - dense_3_acc_5: 0.0200 - dense_3_acc_6: 0.0048 - dense_3_acc_7: 0.9445 - dense_3_acc_8: 0.0079 - dense_3_acc_9: 0.015 - ETA: 57s - loss: 21.1909 - dense_3_loss: 2.8316 - dense_3_acc: 0.0285 - dense_3_acc_1: 0.3700 - dense_3_acc_2: 0.1615 - dense_3_acc_3: 0.0482 - dense_3_acc_4: 0.9215 - dense_3_acc_5: 0.0194 - dense_3_acc_6: 0.0047 - dense_3_acc_7: 0.9462 - dense_3_acc_8: 0.0191 - dense_3_acc_9: 0.01 - ETA: 55s - loss: 21.1335 - dense_3_loss: 2.8340 - dense_3_acc: 0.0449 - dense_3_acc_1: 0.3766 - dense_3_acc_2: 0.1643 - dense_3_acc_3: 0.0511 - dense_3_acc_4: 0.9237 - dense_3_acc_5: 0.0189 - dense_3_acc_6: 0.0046 - dense_3_acc_7: 0.9449 - dense_3_acc_8: 0.0286 - dense_3_acc_9: 0.02 - ETA: 53s - loss: 21.0779 - dense_3_loss: 2.8268 - dense_3_acc: 0.0583 - dense_3_acc_1: 0.3808 - dense_3_acc_2: 0.1672 - dense_3_acc_3: 0.0517 - dense_3_acc_4: 0.9250 - dense_3_acc_5: 0.0183 - dense_3_acc_6: 0.0044 - dense_3_acc_7: 0.9353 - dense_3_acc_8: 0.0353 - dense_3_acc_9: 0.02 - ETA: 51s - loss: 21.0191 - dense_3_loss: 2.8244 - dense_3_acc: 0.0730 - dense_3_acc_1: 0.3868 - dense_3_acc_2: 0.1722 - dense_3_acc_3: 0.0524 - dense_3_acc_4: 0.9270 - dense_3_acc_5: 0.0178 - dense_3_acc_6: 0.0043 - dense_3_acc_7: 0.9205 - dense_3_acc_8: 0.0416 - dense_3_acc_9: 0.02 - ETA: 49s - loss: 20.9604 - dense_3_loss: 2.8263 - dense_3_acc: 0.0889 - dense_3_acc_1: 0.3945 - dense_3_acc_2: 0.1747 - dense_3_acc_3: 0.0513 - dense_3_acc_4: 0.9289 - dense_3_acc_5: 0.0174 - dense_3_acc_6: 0.0042 - dense_3_acc_7: 0.9163 - dense_3_acc_8: 0.0492 - dense_3_acc_9: 0.03 - ETA: 47s - loss: 20.9095 - dense_3_loss: 2.8263 - dense_3_acc: 0.1018 - dense_3_acc_1: 0.3995 - dense_3_acc_2: 0.1754 - dense_3_acc_3: 0.0500 - dense_3_acc_4: 0.9308 - dense_3_acc_5: 0.0169 - dense_3_acc_6: 0.0041 - dense_3_acc_7: 0.9185 - dense_3_acc_8: 0.0564 - dense_3_acc_9: 0.03 - ETA: 46s - loss: 20.8547 - dense_3_loss: 2.8250 - dense_3_acc: 0.1158 - dense_3_acc_1: 0.4060 - dense_3_acc_2: 0.1768 - dense_3_acc_3: 0.0487 - dense_3_acc_4: 0.9325 - dense_3_acc_5: 0.0165 - dense_3_acc_6: 0.0040 - dense_3_acc_7: 0.9205 - dense_3_acc_8: 0.0550 - dense_3_acc_9: 0.03 - ETA: 44s - loss: 20.7950 - dense_3_loss: 2.8238 - dense_3_acc: 0.1285 - dense_3_acc_1: 0.4117 - dense_3_acc_2: 0.1776 - dense_3_acc_3: 0.0493 - dense_3_acc_4: 0.9341 - dense_3_acc_5: 0.0161 - dense_3_acc_6: 0.0039 - dense_3_acc_7: 0.9217 - dense_3_acc_8: 0.0551 - dense_3_acc_9: 0.03 - ETA: 42s - loss: 20.7347 - dense_3_loss: 2.8244 - dense_3_acc: 0.1414 - dense_3_acc_1: 0.4179 - dense_3_acc_2: 0.1831 - dense_3_acc_3: 0.0512 - dense_3_acc_4: 0.9357 - dense_3_acc_5: 0.0157 - dense_3_acc_6: 0.0038 - dense_3_acc_7: 0.9200 - dense_3_acc_8: 0.0595 - dense_3_acc_9: 0.03 - ETA: 41s - loss: 20.6829 - dense_3_loss: 2.8236 - dense_3_acc: 0.1521 - dense_3_acc_1: 0.4221 - dense_3_acc_2: 0.1849 - dense_3_acc_3: 0.0512 - dense_3_acc_4: 0.9358 - dense_3_acc_5: 0.0167 - dense_3_acc_6: 0.0040 - dense_3_acc_7: 0.9114 - dense_3_acc_8: 0.0665 - dense_3_acc_9: 0.03 - ETA: 39s - loss: 20.6292 - dense_3_loss: 2.8226 - dense_3_acc: 0.1602 - dense_3_acc_1: 0.4241 - dense_3_acc_2: 0.1891 - dense_3_acc_3: 0.0525 - dense_3_acc_4: 0.9373 - dense_3_acc_5: 0.0164 - dense_3_acc_6: 0.0039 - dense_3_acc_7: 0.9061 - dense_3_acc_8: 0.0734 - dense_3_acc_9: 0.04 - ETA: 38s - loss: 20.5690 - dense_3_loss: 2.8226 - dense_3_acc: 0.1724 - dense_3_acc_1: 0.4304 - dense_3_acc_2: 0.1904 - dense_3_acc_3: 0.0522 - dense_3_acc_4: 0.9387 - dense_3_acc_5: 0.0160 - dense_3_acc_6: 0.0040 - dense_3_acc_7: 0.9044 - dense_3_acc_8: 0.0778 - dense_3_acc_9: 0.04 - ETA: 37s - loss: 20.5175 - dense_3_loss: 2.8224 - dense_3_acc: 0.1826 - dense_3_acc_1: 0.4350 - dense_3_acc_2: 0.1933 - dense_3_acc_3: 0.0513 - dense_3_acc_4: 0.9400 - dense_3_acc_5: 0.0157 - dense_3_acc_6: 0.0039 - dense_3_acc_7: 0.9048 - dense_3_acc_8: 0.0791 - dense_3_acc_9: 0.04 - ETA: 35s - loss: 20.4584 - dense_3_loss: 2.8205 - dense_3_acc: 0.1919 - dense_3_acc_1: 0.4389 - dense_3_acc_2: 0.1966 - dense_3_acc_3: 0.0504 - dense_3_acc_4: 0.9413 - dense_3_acc_5: 0.0157 - dense_3_acc_6: 0.0043 - dense_3_acc_7: 0.9051 - dense_3_acc_8: 0.0802 - dense_3_acc_9: 0.04 - ETA: 34s - loss: 20.4012 - dense_3_loss: 2.8213 - dense_3_acc: 0.2010 - dense_3_acc_1: 0.4429 - dense_3_acc_2: 0.1985 - dense_3_acc_3: 0.0500 - dense_3_acc_4: 0.9425 - dense_3_acc_5: 0.0154 - dense_3_acc_6: 0.0046 - dense_3_acc_7: 0.9046 - dense_3_acc_8: 0.0819 - dense_3_acc_9: 0.04 - ETA: 33s - loss: 20.3439 - dense_3_loss: 2.8174 - dense_3_acc: 0.2088 - dense_3_acc_1: 0.4457 - dense_3_acc_2: 0.1996 - dense_3_acc_3: 0.0492 - dense_3_acc_4: 0.9437 - dense_3_acc_5: 0.0161 - dense_3_acc_6: 0.0061 - dense_3_acc_7: 0.8980 - dense_3_acc_8: 0.0876 - dense_3_acc_9: 0.05 - ETA: 32s - loss: 20.2868 - dense_3_loss: 2.8149 - dense_3_acc: 0.2152 - dense_3_acc_1: 0.4474 - dense_3_acc_2: 0.2036 - dense_3_acc_3: 0.0484 - dense_3_acc_4: 0.9448 - dense_3_acc_5: 0.0172 - dense_3_acc_6: 0.0076 - dense_3_acc_7: 0.8900 - dense_3_acc_8: 0.0942 - dense_3_acc_9: 0.05 - ETA: 31s - loss: 20.2325 - dense_3_loss: 2.8126 - dense_3_acc: 0.2243 - dense_3_acc_1: 0.4527 - dense_3_acc_2: 0.2039 - dense_3_acc_3: 0.0482 - dense_3_acc_4: 0.9459 - dense_3_acc_5: 0.0182 - dense_3_acc_6: 0.0084 - dense_3_acc_7: 0.8835 - dense_3_acc_8: 0.0971 - dense_3_acc_9: 0.05 - ETA: 30s - loss: 20.1829 - dense_3_loss: 2.8133 - dense_3_acc: 0.2310 - dense_3_acc_1: 0.4554 - dense_3_acc_2: 0.2071 - dense_3_acc_3: 0.0477 - dense_3_acc_4: 0.9465 - dense_3_acc_5: 0.0196 - dense_3_acc_6: 0.0100 - dense_3_acc_7: 0.8777 - dense_3_acc_8: 0.1004 - dense_3_acc_9: 0.05 - ETA: 29s - loss: 20.1287 - dense_3_loss: 2.8128 - dense_3_acc: 0.2396 - dense_3_acc_1: 0.4626 - dense_3_acc_2: 0.2081 - dense_3_acc_3: 0.0470 - dense_3_acc_4: 0.9475 - dense_3_acc_5: 0.0194 - dense_3_acc_6: 0.0100 - dense_3_acc_7: 0.8777 - dense_3_acc_8: 0.1002 - dense_3_acc_9: 0.05 - ETA: 28s - loss: 20.0663 - dense_3_loss: 2.8119 - dense_3_acc: 0.2467 - dense_3_acc_1: 0.4670 - dense_3_acc_2: 0.2124 - dense_3_acc_3: 0.0465 - dense_3_acc_4: 0.9485 - dense_3_acc_5: 0.0202 - dense_3_acc_6: 0.0107 - dense_3_acc_7: 0.8776 - dense_3_acc_8: 0.1000 - dense_3_acc_9: 0.06 - ETA: 27s - loss: 20.0108 - dense_3_loss: 2.8092 - dense_3_acc: 0.2524 - dense_3_acc_1: 0.4695 - dense_3_acc_2: 0.2151 - dense_3_acc_3: 0.0475 - dense_3_acc_4: 0.9493 - dense_3_acc_5: 0.0209 - dense_3_acc_6: 0.0131 - dense_3_acc_7: 0.8751 - dense_3_acc_8: 0.1022 - dense_3_acc_9: 0.06 - ETA: 26s - loss: 19.9506 - dense_3_loss: 2.8094 - dense_3_acc: 0.2607 - dense_3_acc_1: 0.4743 - dense_3_acc_2: 0.2177 - dense_3_acc_3: 0.0471 - dense_3_acc_4: 0.9502 - dense_3_acc_5: 0.0245 - dense_3_acc_6: 0.0146 - dense_3_acc_7: 0.8713 - dense_3_acc_8: 0.1089 - dense_3_acc_9: 0.06 - ETA: 25s - loss: 19.8931 - dense_3_loss: 2.8088 - dense_3_acc: 0.2682 - dense_3_acc_1: 0.4782 - dense_3_acc_2: 0.2216 - dense_3_acc_3: 0.0463 - dense_3_acc_4: 0.9511 - dense_3_acc_5: 0.0289 - dense_3_acc_6: 0.0153 - dense_3_acc_7: 0.8702 - dense_3_acc_8: 0.1142 - dense_3_acc_9: 0.06 - ETA: 24s - loss: 19.8336 - dense_3_loss: 2.8107 - dense_3_acc: 0.2753 - dense_3_acc_1: 0.4817 - dense_3_acc_2: 0.2238 - dense_3_acc_3: 0.0460 - dense_3_acc_4: 0.9519 - dense_3_acc_5: 0.0326 - dense_3_acc_6: 0.0167 - dense_3_acc_7: 0.8712 - dense_3_acc_8: 0.1178 - dense_3_acc_9: 0.0664"
     ]
    },
    {
     "name": "stdout",
     "output_type": "stream",
     "text": [
      " 8700/10000 [=========================>....] - ETA: 23s - loss: 19.7777 - dense_3_loss: 2.8093 - dense_3_acc: 0.2815 - dense_3_acc_1: 0.4841 - dense_3_acc_2: 0.2242 - dense_3_acc_3: 0.0475 - dense_3_acc_4: 0.9527 - dense_3_acc_5: 0.0342 - dense_3_acc_6: 0.0178 - dense_3_acc_7: 0.8727 - dense_3_acc_8: 0.1161 - dense_3_acc_9: 0.06 - ETA: 22s - loss: 19.7129 - dense_3_loss: 2.8061 - dense_3_acc: 0.2895 - dense_3_acc_1: 0.4900 - dense_3_acc_2: 0.2273 - dense_3_acc_3: 0.0468 - dense_3_acc_4: 0.9535 - dense_3_acc_5: 0.0463 - dense_3_acc_6: 0.0182 - dense_3_acc_7: 0.8742 - dense_3_acc_8: 0.1190 - dense_3_acc_9: 0.06 - ETA: 21s - loss: 19.6447 - dense_3_loss: 2.8029 - dense_3_acc: 0.2967 - dense_3_acc_1: 0.4944 - dense_3_acc_2: 0.2287 - dense_3_acc_3: 0.0462 - dense_3_acc_4: 0.9543 - dense_3_acc_5: 0.0585 - dense_3_acc_6: 0.0184 - dense_3_acc_7: 0.8756 - dense_3_acc_8: 0.1243 - dense_3_acc_9: 0.07 - ETA: 21s - loss: 19.5798 - dense_3_loss: 2.8014 - dense_3_acc: 0.3016 - dense_3_acc_1: 0.4968 - dense_3_acc_2: 0.2303 - dense_3_acc_3: 0.0468 - dense_3_acc_4: 0.9550 - dense_3_acc_5: 0.0663 - dense_3_acc_6: 0.0195 - dense_3_acc_7: 0.8776 - dense_3_acc_8: 0.1263 - dense_3_acc_9: 0.07 - ETA: 20s - loss: 19.5107 - dense_3_loss: 2.7985 - dense_3_acc: 0.3068 - dense_3_acc_1: 0.5006 - dense_3_acc_2: 0.2329 - dense_3_acc_3: 0.0473 - dense_3_acc_4: 0.9557 - dense_3_acc_5: 0.0778 - dense_3_acc_6: 0.0203 - dense_3_acc_7: 0.8795 - dense_3_acc_8: 0.1297 - dense_3_acc_9: 0.07 - ETA: 19s - loss: 19.4377 - dense_3_loss: 2.7955 - dense_3_acc: 0.3138 - dense_3_acc_1: 0.5059 - dense_3_acc_2: 0.2355 - dense_3_acc_3: 0.0469 - dense_3_acc_4: 0.9564 - dense_3_acc_5: 0.0892 - dense_3_acc_6: 0.0211 - dense_3_acc_7: 0.8814 - dense_3_acc_8: 0.1334 - dense_3_acc_9: 0.07 - ETA: 18s - loss: 19.3622 - dense_3_loss: 2.7918 - dense_3_acc: 0.3209 - dense_3_acc_1: 0.5108 - dense_3_acc_2: 0.2377 - dense_3_acc_3: 0.0463 - dense_3_acc_4: 0.9571 - dense_3_acc_5: 0.0991 - dense_3_acc_6: 0.0220 - dense_3_acc_7: 0.8832 - dense_3_acc_8: 0.1371 - dense_3_acc_9: 0.07 - ETA: 17s - loss: 19.2882 - dense_3_loss: 2.7884 - dense_3_acc: 0.3255 - dense_3_acc_1: 0.5126 - dense_3_acc_2: 0.2395 - dense_3_acc_3: 0.0462 - dense_3_acc_4: 0.9577 - dense_3_acc_5: 0.1083 - dense_3_acc_6: 0.0229 - dense_3_acc_7: 0.8850 - dense_3_acc_8: 0.1400 - dense_3_acc_9: 0.07 - ETA: 17s - loss: 19.2100 - dense_3_loss: 2.7840 - dense_3_acc: 0.3307 - dense_3_acc_1: 0.5154 - dense_3_acc_2: 0.2410 - dense_3_acc_3: 0.0460 - dense_3_acc_4: 0.9584 - dense_3_acc_5: 0.1161 - dense_3_acc_6: 0.0233 - dense_3_acc_7: 0.8867 - dense_3_acc_8: 0.1437 - dense_3_acc_9: 0.07 - ETA: 16s - loss: 19.1298 - dense_3_loss: 2.7792 - dense_3_acc: 0.3346 - dense_3_acc_1: 0.5171 - dense_3_acc_2: 0.2426 - dense_3_acc_3: 0.0456 - dense_3_acc_4: 0.9590 - dense_3_acc_5: 0.1274 - dense_3_acc_6: 0.0244 - dense_3_acc_7: 0.8884 - dense_3_acc_8: 0.1476 - dense_3_acc_9: 0.07 - ETA: 15s - loss: 19.0497 - dense_3_loss: 2.7758 - dense_3_acc: 0.3404 - dense_3_acc_1: 0.5210 - dense_3_acc_2: 0.2448 - dense_3_acc_3: 0.0462 - dense_3_acc_4: 0.9596 - dense_3_acc_5: 0.1364 - dense_3_acc_6: 0.0261 - dense_3_acc_7: 0.8900 - dense_3_acc_8: 0.1510 - dense_3_acc_9: 0.07 - ETA: 15s - loss: 18.9679 - dense_3_loss: 2.7716 - dense_3_acc: 0.3464 - dense_3_acc_1: 0.5264 - dense_3_acc_2: 0.2470 - dense_3_acc_3: 0.0476 - dense_3_acc_4: 0.9601 - dense_3_acc_5: 0.1464 - dense_3_acc_6: 0.0277 - dense_3_acc_7: 0.8916 - dense_3_acc_8: 0.1549 - dense_3_acc_9: 0.07 - ETA: 14s - loss: 18.8866 - dense_3_loss: 2.7660 - dense_3_acc: 0.3517 - dense_3_acc_1: 0.5304 - dense_3_acc_2: 0.2483 - dense_3_acc_3: 0.0499 - dense_3_acc_4: 0.9607 - dense_3_acc_5: 0.1566 - dense_3_acc_6: 0.0285 - dense_3_acc_7: 0.8931 - dense_3_acc_8: 0.1583 - dense_3_acc_9: 0.07 - ETA: 13s - loss: 18.8034 - dense_3_loss: 2.7598 - dense_3_acc: 0.3567 - dense_3_acc_1: 0.5344 - dense_3_acc_2: 0.2503 - dense_3_acc_3: 0.0499 - dense_3_acc_4: 0.9613 - dense_3_acc_5: 0.1647 - dense_3_acc_6: 0.0294 - dense_3_acc_7: 0.8946 - dense_3_acc_8: 0.1607 - dense_3_acc_9: 0.07 - ETA: 13s - loss: 18.7236 - dense_3_loss: 2.7543 - dense_3_acc: 0.3605 - dense_3_acc_1: 0.5371 - dense_3_acc_2: 0.2521 - dense_3_acc_3: 0.0499 - dense_3_acc_4: 0.9618 - dense_3_acc_5: 0.1733 - dense_3_acc_6: 0.0307 - dense_3_acc_7: 0.8960 - dense_3_acc_8: 0.1637 - dense_3_acc_9: 0.08 - ETA: 12s - loss: 18.6413 - dense_3_loss: 2.7496 - dense_3_acc: 0.3658 - dense_3_acc_1: 0.5411 - dense_3_acc_2: 0.2541 - dense_3_acc_3: 0.0507 - dense_3_acc_4: 0.9623 - dense_3_acc_5: 0.1819 - dense_3_acc_6: 0.0318 - dense_3_acc_7: 0.8974 - dense_3_acc_8: 0.1662 - dense_3_acc_9: 0.08 - ETA: 12s - loss: 18.5593 - dense_3_loss: 2.7438 - dense_3_acc: 0.3707 - dense_3_acc_1: 0.5447 - dense_3_acc_2: 0.2551 - dense_3_acc_3: 0.0517 - dense_3_acc_4: 0.9628 - dense_3_acc_5: 0.1901 - dense_3_acc_6: 0.0336 - dense_3_acc_7: 0.8988 - dense_3_acc_8: 0.1701 - dense_3_acc_9: 0.08 - ETA: 11s - loss: 18.4773 - dense_3_loss: 2.7380 - dense_3_acc: 0.3759 - dense_3_acc_1: 0.5482 - dense_3_acc_2: 0.2561 - dense_3_acc_3: 0.0522 - dense_3_acc_4: 0.9633 - dense_3_acc_5: 0.1975 - dense_3_acc_6: 0.0347 - dense_3_acc_7: 0.9001 - dense_3_acc_8: 0.1737 - dense_3_acc_9: 0.08 - ETA: 10s - loss: 18.3948 - dense_3_loss: 2.7313 - dense_3_acc: 0.3810 - dense_3_acc_1: 0.5526 - dense_3_acc_2: 0.2590 - dense_3_acc_3: 0.0530 - dense_3_acc_4: 0.9638 - dense_3_acc_5: 0.2055 - dense_3_acc_6: 0.0361 - dense_3_acc_7: 0.9014 - dense_3_acc_8: 0.1777 - dense_3_acc_9: 0.08 - ETA: 10s - loss: 18.3123 - dense_3_loss: 2.7261 - dense_3_acc: 0.3867 - dense_3_acc_1: 0.5564 - dense_3_acc_2: 0.2613 - dense_3_acc_3: 0.0535 - dense_3_acc_4: 0.9642 - dense_3_acc_5: 0.2136 - dense_3_acc_6: 0.0367 - dense_3_acc_7: 0.9027 - dense_3_acc_8: 0.1808 - dense_3_acc_9: 0.08 - ETA: 9s - loss: 18.2328 - dense_3_loss: 2.7208 - dense_3_acc: 0.3906 - dense_3_acc_1: 0.5594 - dense_3_acc_2: 0.2634 - dense_3_acc_3: 0.0546 - dense_3_acc_4: 0.9647 - dense_3_acc_5: 0.2213 - dense_3_acc_6: 0.0378 - dense_3_acc_7: 0.9039 - dense_3_acc_8: 0.1827 - dense_3_acc_9: 0.0871 - ETA: 9s - loss: 18.1534 - dense_3_loss: 2.7160 - dense_3_acc: 0.3954 - dense_3_acc_1: 0.5630 - dense_3_acc_2: 0.2646 - dense_3_acc_3: 0.0549 - dense_3_acc_4: 0.9651 - dense_3_acc_5: 0.2288 - dense_3_acc_6: 0.0396 - dense_3_acc_7: 0.9051 - dense_3_acc_8: 0.1856 - dense_3_acc_9: 0.087 - ETA: 8s - loss: 18.0770 - dense_3_loss: 2.7119 - dense_3_acc: 0.4007 - dense_3_acc_1: 0.5668 - dense_3_acc_2: 0.2663 - dense_3_acc_3: 0.0560 - dense_3_acc_4: 0.9656 - dense_3_acc_5: 0.2351 - dense_3_acc_6: 0.0414 - dense_3_acc_7: 0.9063 - dense_3_acc_8: 0.1878 - dense_3_acc_9: 0.087 - ETA: 8s - loss: 18.0028 - dense_3_loss: 2.7069 - dense_3_acc: 0.4044 - dense_3_acc_1: 0.5704 - dense_3_acc_2: 0.2674 - dense_3_acc_3: 0.0568 - dense_3_acc_4: 0.9660 - dense_3_acc_5: 0.2412 - dense_3_acc_6: 0.0420 - dense_3_acc_7: 0.9074 - dense_3_acc_8: 0.1900 - dense_3_acc_9: 0.088 - ETA: 7s - loss: 17.9325 - dense_3_loss: 2.7022 - dense_3_acc: 0.4087 - dense_3_acc_1: 0.5737 - dense_3_acc_2: 0.2686 - dense_3_acc_3: 0.0575 - dense_3_acc_4: 0.9664 - dense_3_acc_5: 0.2470 - dense_3_acc_6: 0.0433 - dense_3_acc_7: 0.9086 - dense_3_acc_8: 0.1920 - dense_3_acc_9: 0.089 - ETA: 7s - loss: 17.8556 - dense_3_loss: 2.6982 - dense_3_acc: 0.4136 - dense_3_acc_1: 0.5776 - dense_3_acc_2: 0.2694 - dense_3_acc_3: 0.0586 - dense_3_acc_4: 0.9668 - dense_3_acc_5: 0.2540 - dense_3_acc_6: 0.0445 - dense_3_acc_7: 0.9096 - dense_3_acc_8: 0.1954 - dense_3_acc_9: 0.090 - ETA: 6s - loss: 17.7795 - dense_3_loss: 2.6940 - dense_3_acc: 0.4181 - dense_3_acc_1: 0.5814 - dense_3_acc_2: 0.2713 - dense_3_acc_3: 0.0593 - dense_3_acc_4: 0.9672 - dense_3_acc_5: 0.2615 - dense_3_acc_6: 0.0460 - dense_3_acc_7: 0.9107 - dense_3_acc_8: 0.1976 - dense_3_acc_9: 0.092 - ETA: 6s - loss: 17.7068 - dense_3_loss: 2.6897 - dense_3_acc: 0.4224 - dense_3_acc_1: 0.5847 - dense_3_acc_2: 0.2724 - dense_3_acc_3: 0.0594 - dense_3_acc_4: 0.9676 - dense_3_acc_5: 0.2684 - dense_3_acc_6: 0.0466 - dense_3_acc_7: 0.9117 - dense_3_acc_8: 0.1995 - dense_3_acc_9: 0.092 - ETA: 5s - loss: 17.6356 - dense_3_loss: 2.6856 - dense_3_acc: 0.4270 - dense_3_acc_1: 0.5887 - dense_3_acc_2: 0.2749 - dense_3_acc_3: 0.0600 - dense_3_acc_4: 0.9679 - dense_3_acc_5: 0.2748 - dense_3_acc_6: 0.0470 - dense_3_acc_7: 0.9128 - dense_3_acc_8: 0.2016 - dense_3_acc_9: 0.0928"
     ]
    },
    {
     "name": "stdout",
     "output_type": "stream",
     "text": [
      "10000/10000 [==============================] - ETA: 5s - loss: 17.5658 - dense_3_loss: 2.6817 - dense_3_acc: 0.4314 - dense_3_acc_1: 0.5926 - dense_3_acc_2: 0.2764 - dense_3_acc_3: 0.0608 - dense_3_acc_4: 0.9683 - dense_3_acc_5: 0.2807 - dense_3_acc_6: 0.0488 - dense_3_acc_7: 0.9138 - dense_3_acc_8: 0.2032 - dense_3_acc_9: 0.093 - ETA: 4s - loss: 17.4928 - dense_3_loss: 2.6780 - dense_3_acc: 0.4351 - dense_3_acc_1: 0.5958 - dense_3_acc_2: 0.2785 - dense_3_acc_3: 0.0622 - dense_3_acc_4: 0.9687 - dense_3_acc_5: 0.2864 - dense_3_acc_6: 0.0499 - dense_3_acc_7: 0.9147 - dense_3_acc_8: 0.2058 - dense_3_acc_9: 0.093 - ETA: 4s - loss: 17.4244 - dense_3_loss: 2.6743 - dense_3_acc: 0.4392 - dense_3_acc_1: 0.5990 - dense_3_acc_2: 0.2792 - dense_3_acc_3: 0.0626 - dense_3_acc_4: 0.9690 - dense_3_acc_5: 0.2924 - dense_3_acc_6: 0.0516 - dense_3_acc_7: 0.9157 - dense_3_acc_8: 0.2072 - dense_3_acc_9: 0.093 - ETA: 3s - loss: 17.3550 - dense_3_loss: 2.6708 - dense_3_acc: 0.4436 - dense_3_acc_1: 0.6025 - dense_3_acc_2: 0.2801 - dense_3_acc_3: 0.0630 - dense_3_acc_4: 0.9693 - dense_3_acc_5: 0.2979 - dense_3_acc_6: 0.0542 - dense_3_acc_7: 0.9166 - dense_3_acc_8: 0.2107 - dense_3_acc_9: 0.094 - ETA: 3s - loss: 17.2881 - dense_3_loss: 2.6666 - dense_3_acc: 0.4474 - dense_3_acc_1: 0.6053 - dense_3_acc_2: 0.2815 - dense_3_acc_3: 0.0634 - dense_3_acc_4: 0.9697 - dense_3_acc_5: 0.3037 - dense_3_acc_6: 0.0557 - dense_3_acc_7: 0.9175 - dense_3_acc_8: 0.2126 - dense_3_acc_9: 0.095 - ETA: 2s - loss: 17.2219 - dense_3_loss: 2.6627 - dense_3_acc: 0.4513 - dense_3_acc_1: 0.6087 - dense_3_acc_2: 0.2824 - dense_3_acc_3: 0.0638 - dense_3_acc_4: 0.9700 - dense_3_acc_5: 0.3085 - dense_3_acc_6: 0.0570 - dense_3_acc_7: 0.9184 - dense_3_acc_8: 0.2149 - dense_3_acc_9: 0.095 - ETA: 2s - loss: 17.1575 - dense_3_loss: 2.6596 - dense_3_acc: 0.4547 - dense_3_acc_1: 0.6111 - dense_3_acc_2: 0.2839 - dense_3_acc_3: 0.0648 - dense_3_acc_4: 0.9703 - dense_3_acc_5: 0.3139 - dense_3_acc_6: 0.0580 - dense_3_acc_7: 0.9193 - dense_3_acc_8: 0.2176 - dense_3_acc_9: 0.095 - ETA: 2s - loss: 17.0922 - dense_3_loss: 2.6550 - dense_3_acc: 0.4586 - dense_3_acc_1: 0.6138 - dense_3_acc_2: 0.2854 - dense_3_acc_3: 0.0659 - dense_3_acc_4: 0.9706 - dense_3_acc_5: 0.3186 - dense_3_acc_6: 0.0594 - dense_3_acc_7: 0.9201 - dense_3_acc_8: 0.2189 - dense_3_acc_9: 0.096 - ETA: 1s - loss: 17.0300 - dense_3_loss: 2.6516 - dense_3_acc: 0.4626 - dense_3_acc_1: 0.6170 - dense_3_acc_2: 0.2864 - dense_3_acc_3: 0.0660 - dense_3_acc_4: 0.9709 - dense_3_acc_5: 0.3242 - dense_3_acc_6: 0.0604 - dense_3_acc_7: 0.9209 - dense_3_acc_8: 0.2216 - dense_3_acc_9: 0.097 - ETA: 1s - loss: 16.9679 - dense_3_loss: 2.6483 - dense_3_acc: 0.4656 - dense_3_acc_1: 0.6194 - dense_3_acc_2: 0.2877 - dense_3_acc_3: 0.0665 - dense_3_acc_4: 0.9712 - dense_3_acc_5: 0.3291 - dense_3_acc_6: 0.0620 - dense_3_acc_7: 0.9218 - dense_3_acc_8: 0.2234 - dense_3_acc_9: 0.097 - ETA: 0s - loss: 16.9056 - dense_3_loss: 2.6446 - dense_3_acc: 0.4685 - dense_3_acc_1: 0.6216 - dense_3_acc_2: 0.2888 - dense_3_acc_3: 0.0677 - dense_3_acc_4: 0.9715 - dense_3_acc_5: 0.3342 - dense_3_acc_6: 0.0628 - dense_3_acc_7: 0.9226 - dense_3_acc_8: 0.2262 - dense_3_acc_9: 0.098 - ETA: 0s - loss: 16.8430 - dense_3_loss: 2.6413 - dense_3_acc: 0.4720 - dense_3_acc_1: 0.6242 - dense_3_acc_2: 0.2903 - dense_3_acc_3: 0.0694 - dense_3_acc_4: 0.9718 - dense_3_acc_5: 0.3386 - dense_3_acc_6: 0.0637 - dense_3_acc_7: 0.9233 - dense_3_acc_8: 0.2287 - dense_3_acc_9: 0.098 - 40s 4ms/step - loss: 16.7813 - dense_3_loss: 2.6377 - dense_3_acc: 0.4758 - dense_3_acc_1: 0.6275 - dense_3_acc_2: 0.2916 - dense_3_acc_3: 0.0702 - dense_3_acc_4: 0.9721 - dense_3_acc_5: 0.3430 - dense_3_acc_6: 0.0649 - dense_3_acc_7: 0.9241 - dense_3_acc_8: 0.2316 - dense_3_acc_9: 0.0990\n"
     ]
    },
    {
     "data": {
      "text/plain": [
       "<keras.callbacks.History at 0x1faafe0dd30>"
      ]
     },
     "execution_count": 14,
     "metadata": {},
     "output_type": "execute_result"
    }
   ],
   "source": [
    "model.fit([Xoh, s0, c0], outputs, epochs=1, batch_size=100)"
   ]
  },
  {
   "cell_type": "markdown",
   "metadata": {},
   "source": [
    "While training you can see the loss as well as the accuracy on each of the 10 positions of the output. The table below gives you an example of what the accuracies could be if the batch had 2 examples: \n",
    "\n",
    "<img src=\"images/table.png\" style=\"width:700;height:200px;\"> <br>\n",
    "<caption><center>Thus, `dense_2_acc_8: 0.89` means that you are predicting the 7th character of the output correctly 89% of the time in the current batch of data. </center></caption>\n",
    "\n",
    "\n",
    "We have run this model for longer, and saved the weights. Run the next cell to load our weights. (By training a model for several minutes, you should be able to obtain a model of similar accuracy, but loading our model will save you time.) "
   ]
  },
  {
   "cell_type": "code",
   "execution_count": 15,
   "metadata": {},
   "outputs": [],
   "source": [
    "model.load_weights('models/model.h5')"
   ]
  },
  {
   "cell_type": "markdown",
   "metadata": {},
   "source": [
    "You can now see the results on new examples."
   ]
  },
  {
   "cell_type": "code",
   "execution_count": 16,
   "metadata": {
    "scrolled": true
   },
   "outputs": [
    {
     "name": "stdout",
     "output_type": "stream",
     "text": [
      "source: 3 May 1979\n",
      "output: 1979-05-03\n",
      "source: 5 April 09\n",
      "output: 2009-05-05\n",
      "source: 21th of August 2016\n",
      "output: 2016-08-21\n",
      "source: Tue 10 Jul 2007\n",
      "output: 2007-07-10\n",
      "source: Saturday May 9 2018\n",
      "output: 2018-05-09\n",
      "source: March 3 2001\n",
      "output: 2001-03-03\n",
      "source: March 3rd 2001\n",
      "output: 2001-03-03\n",
      "source: 1 March 2001\n",
      "output: 2001-03-01\n"
     ]
    }
   ],
   "source": [
    "EXAMPLES = ['3 May 1979', '5 April 09', '21th of August 2016', 'Tue 10 Jul 2007', 'Saturday May 9 2018', 'March 3 2001', 'March 3rd 2001', '1 March 2001']\n",
    "for example in EXAMPLES:\n",
    "    \n",
    "    source = string_to_int(example, Tx, human_vocab)\n",
    "    source = np.array(list(map(lambda x: to_categorical(x, num_classes=len(human_vocab)), source))).swapaxes(0,1)\n",
    "    \n",
    "    # fix error below since model expect (None, 30, 37):\n",
    "    # Error when checking input: expected input_1 to have 3 dimensions, but got array with shape (37, 30)\n",
    "    source = source.transpose()\n",
    "    source = np.expand_dims(source, axis=0)\n",
    "    \n",
    "    prediction = model.predict([source, s0, c0])\n",
    "    prediction = np.argmax(prediction, axis = -1)\n",
    "    output = [inv_machine_vocab[int(i)] for i in prediction]\n",
    "    \n",
    "    print(\"source:\", example)\n",
    "    print(\"output:\", ''.join(output))"
   ]
  },
  {
   "cell_type": "markdown",
   "metadata": {},
   "source": [
    "You can also change these examples to test with your own examples. The next part will give you a better sense on what the attention mechanism is doing--i.e., what part of the input the network is paying attention to when generating a particular output character. "
   ]
  },
  {
   "cell_type": "markdown",
   "metadata": {},
   "source": [
    "## 3 - Visualizing Attention (Optional / Ungraded)\n",
    "\n",
    "Since the problem has a fixed output length of 10, it is also possible to carry out this task using 10 different softmax units to generate the 10 characters of the output. But one advantage of the attention model is that each part of the output (say the month) knows it needs to depend only on a small part of the input (the characters in the input giving the month). We can  visualize what part of the output is looking at what part of the input.\n",
    "\n",
    "Consider the task of translating \"Saturday 9 May 2018\" to \"2018-05-09\". If we visualize the computed $\\alpha^{\\langle t, t' \\rangle}$ we get this: \n",
    "\n",
    "<img src=\"images/date_attention.png\" style=\"width:600;height:300px;\"> <br>\n",
    "<caption><center> **Figure 8**: Full Attention Map</center></caption>\n",
    "\n",
    "Notice how the output ignores the \"Saturday\" portion of the input. None of the output timesteps are paying much attention to that portion of the input. We see also that 9 has been translated as 09 and May has been correctly translated into 05, with the output paying attention to the parts of the input it needs to to make the translation. The year mostly requires it to pay attention to the input's \"18\" in order to generate \"2018.\" \n",
    "\n"
   ]
  },
  {
   "cell_type": "markdown",
   "metadata": {},
   "source": [
    "### 3.1 - Getting the activations from the network\n",
    "\n",
    "Lets now visualize the attention values in your network. We'll propagate an example through the network, then visualize the values of $\\alpha^{\\langle t, t' \\rangle}$. \n",
    "\n",
    "To figure out where the attention values are located, let's start by printing a summary of the model ."
   ]
  },
  {
   "cell_type": "code",
   "execution_count": 17,
   "metadata": {},
   "outputs": [
    {
     "name": "stdout",
     "output_type": "stream",
     "text": [
      "__________________________________________________________________________________________________\n",
      "Layer (type)                    Output Shape         Param #     Connected to                     \n",
      "==================================================================================================\n",
      "input_1 (InputLayer)            (None, 30, 37)       0                                            \n",
      "__________________________________________________________________________________________________\n",
      "s0 (InputLayer)                 (None, 64)           0                                            \n",
      "__________________________________________________________________________________________________\n",
      "bidirectional_1 (Bidirectional) (None, 30, 64)       17920       input_1[0][0]                    \n",
      "__________________________________________________________________________________________________\n",
      "repeat_vector_1 (RepeatVector)  (None, 30, 64)       0           s0[0][0]                         \n",
      "                                                                 lstm_1[0][0]                     \n",
      "                                                                 lstm_1[1][0]                     \n",
      "                                                                 lstm_1[2][0]                     \n",
      "                                                                 lstm_1[3][0]                     \n",
      "                                                                 lstm_1[4][0]                     \n",
      "                                                                 lstm_1[5][0]                     \n",
      "                                                                 lstm_1[6][0]                     \n",
      "                                                                 lstm_1[7][0]                     \n",
      "                                                                 lstm_1[8][0]                     \n",
      "__________________________________________________________________________________________________\n",
      "concatenate_1 (Concatenate)     (None, 30, 128)      0           bidirectional_1[0][0]            \n",
      "                                                                 repeat_vector_1[0][0]            \n",
      "                                                                 bidirectional_1[0][0]            \n",
      "                                                                 repeat_vector_1[1][0]            \n",
      "                                                                 bidirectional_1[0][0]            \n",
      "                                                                 repeat_vector_1[2][0]            \n",
      "                                                                 bidirectional_1[0][0]            \n",
      "                                                                 repeat_vector_1[3][0]            \n",
      "                                                                 bidirectional_1[0][0]            \n",
      "                                                                 repeat_vector_1[4][0]            \n",
      "                                                                 bidirectional_1[0][0]            \n",
      "                                                                 repeat_vector_1[5][0]            \n",
      "                                                                 bidirectional_1[0][0]            \n",
      "                                                                 repeat_vector_1[6][0]            \n",
      "                                                                 bidirectional_1[0][0]            \n",
      "                                                                 repeat_vector_1[7][0]            \n",
      "                                                                 bidirectional_1[0][0]            \n",
      "                                                                 repeat_vector_1[8][0]            \n",
      "                                                                 bidirectional_1[0][0]            \n",
      "                                                                 repeat_vector_1[9][0]            \n",
      "__________________________________________________________________________________________________\n",
      "dense_1 (Dense)                 (None, 30, 10)       1290        concatenate_1[0][0]              \n",
      "                                                                 concatenate_1[1][0]              \n",
      "                                                                 concatenate_1[2][0]              \n",
      "                                                                 concatenate_1[3][0]              \n",
      "                                                                 concatenate_1[4][0]              \n",
      "                                                                 concatenate_1[5][0]              \n",
      "                                                                 concatenate_1[6][0]              \n",
      "                                                                 concatenate_1[7][0]              \n",
      "                                                                 concatenate_1[8][0]              \n",
      "                                                                 concatenate_1[9][0]              \n",
      "__________________________________________________________________________________________________\n",
      "dense_2 (Dense)                 (None, 30, 1)        11          dense_1[0][0]                    \n",
      "                                                                 dense_1[1][0]                    \n",
      "                                                                 dense_1[2][0]                    \n",
      "                                                                 dense_1[3][0]                    \n",
      "                                                                 dense_1[4][0]                    \n",
      "                                                                 dense_1[5][0]                    \n",
      "                                                                 dense_1[6][0]                    \n",
      "                                                                 dense_1[7][0]                    \n",
      "                                                                 dense_1[8][0]                    \n",
      "                                                                 dense_1[9][0]                    \n",
      "__________________________________________________________________________________________________\n",
      "attention_weights (Activation)  (None, 30, 1)        0           dense_2[0][0]                    \n",
      "                                                                 dense_2[1][0]                    \n",
      "                                                                 dense_2[2][0]                    \n",
      "                                                                 dense_2[3][0]                    \n",
      "                                                                 dense_2[4][0]                    \n",
      "                                                                 dense_2[5][0]                    \n",
      "                                                                 dense_2[6][0]                    \n",
      "                                                                 dense_2[7][0]                    \n",
      "                                                                 dense_2[8][0]                    \n",
      "                                                                 dense_2[9][0]                    \n",
      "__________________________________________________________________________________________________\n",
      "dot_1 (Dot)                     (None, 1, 64)        0           attention_weights[0][0]          \n",
      "                                                                 bidirectional_1[0][0]            \n",
      "                                                                 attention_weights[1][0]          \n",
      "                                                                 bidirectional_1[0][0]            \n",
      "                                                                 attention_weights[2][0]          \n",
      "                                                                 bidirectional_1[0][0]            \n",
      "                                                                 attention_weights[3][0]          \n",
      "                                                                 bidirectional_1[0][0]            \n"
     ]
    },
    {
     "name": "stdout",
     "output_type": "stream",
     "text": [
      "                                                                 attention_weights[4][0]          \n",
      "                                                                 bidirectional_1[0][0]            \n",
      "                                                                 attention_weights[5][0]          \n",
      "                                                                 bidirectional_1[0][0]            \n",
      "                                                                 attention_weights[6][0]          \n",
      "                                                                 bidirectional_1[0][0]            \n",
      "                                                                 attention_weights[7][0]          \n",
      "                                                                 bidirectional_1[0][0]            \n",
      "                                                                 attention_weights[8][0]          \n",
      "                                                                 bidirectional_1[0][0]            \n",
      "                                                                 attention_weights[9][0]          \n",
      "                                                                 bidirectional_1[0][0]            \n",
      "__________________________________________________________________________________________________\n",
      "c0 (InputLayer)                 (None, 64)           0                                            \n",
      "__________________________________________________________________________________________________\n",
      "lstm_1 (LSTM)                   [(None, 64), (None,  33024       dot_1[0][0]                      \n",
      "                                                                 s0[0][0]                         \n",
      "                                                                 c0[0][0]                         \n",
      "                                                                 dot_1[1][0]                      \n",
      "                                                                 lstm_1[0][0]                     \n",
      "                                                                 lstm_1[0][2]                     \n",
      "                                                                 dot_1[2][0]                      \n",
      "                                                                 lstm_1[1][0]                     \n",
      "                                                                 lstm_1[1][2]                     \n",
      "                                                                 dot_1[3][0]                      \n",
      "                                                                 lstm_1[2][0]                     \n",
      "                                                                 lstm_1[2][2]                     \n",
      "                                                                 dot_1[4][0]                      \n",
      "                                                                 lstm_1[3][0]                     \n",
      "                                                                 lstm_1[3][2]                     \n",
      "                                                                 dot_1[5][0]                      \n",
      "                                                                 lstm_1[4][0]                     \n",
      "                                                                 lstm_1[4][2]                     \n",
      "                                                                 dot_1[6][0]                      \n",
      "                                                                 lstm_1[5][0]                     \n",
      "                                                                 lstm_1[5][2]                     \n",
      "                                                                 dot_1[7][0]                      \n",
      "                                                                 lstm_1[6][0]                     \n",
      "                                                                 lstm_1[6][2]                     \n",
      "                                                                 dot_1[8][0]                      \n",
      "                                                                 lstm_1[7][0]                     \n",
      "                                                                 lstm_1[7][2]                     \n",
      "                                                                 dot_1[9][0]                      \n",
      "                                                                 lstm_1[8][0]                     \n",
      "                                                                 lstm_1[8][2]                     \n",
      "__________________________________________________________________________________________________\n",
      "dense_3 (Dense)                 (None, 11)           715         lstm_1[0][0]                     \n",
      "                                                                 lstm_1[1][0]                     \n",
      "                                                                 lstm_1[2][0]                     \n",
      "                                                                 lstm_1[3][0]                     \n",
      "                                                                 lstm_1[4][0]                     \n",
      "                                                                 lstm_1[5][0]                     \n",
      "                                                                 lstm_1[6][0]                     \n",
      "                                                                 lstm_1[7][0]                     \n",
      "                                                                 lstm_1[8][0]                     \n",
      "                                                                 lstm_1[9][0]                     \n",
      "==================================================================================================\n",
      "Total params: 52,960\n",
      "Trainable params: 52,960\n",
      "Non-trainable params: 0\n",
      "__________________________________________________________________________________________________\n"
     ]
    }
   ],
   "source": [
    "model.summary()"
   ]
  },
  {
   "cell_type": "markdown",
   "metadata": {},
   "source": [
    "Navigate through the output of `model.summary()` above. You can see that the layer named `attention_weights` outputs the `alphas` of shape (m, 30, 1) before `dot_2` computes the context vector for every time step $t = 0, \\ldots, T_y-1$. Lets get the activations from this layer.\n",
    "\n",
    "The function `attention_map()` pulls out the attention values from your model and plots them."
   ]
  },
  {
   "cell_type": "code",
   "execution_count": 18,
   "metadata": {
    "scrolled": false
   },
   "outputs": [
    {
     "data": {
      "text/plain": [
       "<Figure size 432x288 with 0 Axes>"
      ]
     },
     "metadata": {},
     "output_type": "display_data"
    },
    {
     "data": {
      "image/png": "[encoded data removed]",
      "text/plain": [
       "<Figure size 576x612 with 2 Axes>"
      ]
     },
     "metadata": {
      "needs_background": "light"
     },
     "output_type": "display_data"
    }
   ],
   "source": [
    "attention_map = plot_attention_map(model, human_vocab, inv_machine_vocab, \"Tuesday 09 Oct 1993\", num = 7, n_s = 64)"
   ]
  },
  {
   "cell_type": "markdown",
   "metadata": {},
   "source": [
    "On the generated plot you can observe the values of the attention weights for each character of the predicted output. Examine this plot and check that where the network is paying attention makes sense to you.\n",
    "\n",
    "In the date translation application, you will observe that most of the time attention helps predict the year, and hasn't much impact on predicting the day/month."
   ]
  },
  {
   "cell_type": "markdown",
   "metadata": {},
   "source": [
    "### Congratulations!\n",
    "\n",
    "\n",
    "You have come to the end of this assignment \n",
    "\n",
    "<font color='blue'> **Here's what you should remember from this notebook**:\n",
    "\n",
    "- Machine translation models can be used to map from one sequence to another. They are useful not just for translating human languages (like French->English) but also for tasks like date format translation. \n",
    "- An attention mechanism allows a network to focus on the most relevant parts of the input when producing a specific part of the output. \n",
    "- A network using an attention mechanism can translate from inputs of length $T_x$ to outputs of length $T_y$, where $T_x$ and $T_y$ can be different. \n",
    "- You can visualize attention weights $\\alpha^{\\langle t,t' \\rangle}$ to see what the network is paying attention to while generating each output."
   ]
  },
  {
   "cell_type": "markdown",
   "metadata": {},
   "source": [
    "Congratulations on finishing this assignment! You are now able to implement an attention model and use it to learn complex mappings from one sequence to another. "
   ]
  }
 ],
 "metadata": {
  "coursera": {
   "course_slug": "nlp-sequence-models",
   "graded_item_id": "n16CQ",
   "launcher_item_id": "npjGi"
  },
  "kernelspec": {
   "display_name": "Python 3",
   "language": "python",
   "name": "python3"
  },
  "language_info": {
   "codemirror_mode": {
    "name": "ipython",
    "version": 3
   },
   "file_extension": ".py",
   "mimetype": "text/x-python",
   "name": "python",
   "nbconvert_exporter": "python",
   "pygments_lexer": "ipython3",
   "version": "3.7.3"
  }
 },
 "nbformat": 4,
 "nbformat_minor": 2
}
